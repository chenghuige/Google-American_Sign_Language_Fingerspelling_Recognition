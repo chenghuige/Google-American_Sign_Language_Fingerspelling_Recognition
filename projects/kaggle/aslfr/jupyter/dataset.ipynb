{
 "cells": [
  {
   "cell_type": "code",
   "execution_count": 1,
   "metadata": {},
   "outputs": [
    {
     "name": "stdout",
     "output_type": "stream",
     "text": [
      "INFO: Pandarallel will run on 16 workers.\n",
      "INFO: Pandarallel will use Memory file system to transfer data between the main process and workers.\n"
     ]
    },
    {
     "name": "stderr",
     "output_type": "stream",
     "text": [
      "\u001b[34m\u001b[1mwandb\u001b[0m: \u001b[32m\u001b[41mERROR\u001b[0m Unable to patch Tensorflow/Keras\n",
      "exception while trying to patch_tf_keras\n",
      "Traceback (most recent call last):\n",
      "  File \"/home/gezi/miniconda3/lib/python3.10/site-packages/wandb/integration/keras/keras.py\", line 86, in patch_tf_keras\n",
      "    from keras.engine import training\n",
      "ModuleNotFoundError: No module named 'keras.engine'\n",
      "\u001b[34m\u001b[1mwandb\u001b[0m: \u001b[32m\u001b[41mERROR\u001b[0m Unable to patch Tensorflow/Keras\n",
      "exception while trying to patch_tf_keras\n",
      "Traceback (most recent call last):\n",
      "  File \"/home/gezi/miniconda3/lib/python3.10/site-packages/wandb/integration/keras/keras.py\", line 86, in patch_tf_keras\n",
      "    from keras.engine import training\n",
      "ModuleNotFoundError: No module named 'keras.engine'\n",
      "\u001b[34m\u001b[1mwandb\u001b[0m: \u001b[32m\u001b[41mERROR\u001b[0m Unable to patch Tensorflow/Keras\n",
      "exception while trying to patch_tf_keras\n",
      "Traceback (most recent call last):\n",
      "  File \"/home/gezi/miniconda3/lib/python3.10/site-packages/wandb/integration/keras/keras.py\", line 86, in patch_tf_keras\n",
      "    from keras.engine import training\n",
      "ModuleNotFoundError: No module named 'keras.engine'\n",
      "[07/26/23 18:50:36] config.py:131 in <module>- len(LIP): 40\n",
      "[07/26/23 18:50:37] config.py:134 in <module>\n",
      "                    len(LLIP): 18\n",
      "                    len(RLIP): 18\n",
      "[07/26/23 18:50:37] config.py:135 in <module>\n",
      "                    [i for i in LIP if i not in LLIP + RLIP]: [0, 17, 13, 14]\n",
      "[07/26/23 18:50:37] config.py:176 in <module>- N_COLS: 176\n",
      "[07/26/23 18:50:37] config.py:182 in <module>- N_CHARS: 59\n",
      "[07/26/23 18:50:37] config.py:187 in <module>\n",
      "                    PAD_IDX: 0\n",
      "                    SOS_IDX: 0\n",
      "                    EOS_IDX: 60\n",
      "[07/26/23 18:50:37] config.py:208 in <module>- VOCAB_SIZE: 64\n",
      "[07/26/23 18:50:37] config.py:209 in <module>- len(IDX2CHAR): 64\n"
     ]
    }
   ],
   "source": [
    "import sys\n",
    "sys.path.append('/work/pikachu/utils/')\n",
    "sys.path.append('/work/pikachu/third/')\n",
    "sys.path.append('..')\n",
    "from gezi.common import *\n",
    "import gezi\n",
    "from src.config import *\n",
    "from src.util import *\n",
    "gezi.init_flags()"
   ]
  },
  {
   "cell_type": "code",
   "execution_count": 2,
   "metadata": {},
   "outputs": [
    {
     "data": {
      "text/html": [
       "<div>\n",
       "<style scoped>\n",
       "    .dataframe tbody tr th:only-of-type {\n",
       "        vertical-align: middle;\n",
       "    }\n",
       "\n",
       "    .dataframe tbody tr th {\n",
       "        vertical-align: top;\n",
       "    }\n",
       "\n",
       "    .dataframe thead th {\n",
       "        text-align: right;\n",
       "    }\n",
       "</style>\n",
       "<table border=\"1\" class=\"dataframe\">\n",
       "  <thead>\n",
       "    <tr style=\"text-align: right;\">\n",
       "      <th></th>\n",
       "      <th>index</th>\n",
       "      <th>frames</th>\n",
       "      <th>cls_label</th>\n",
       "      <th>file_id</th>\n",
       "      <th>first_char</th>\n",
       "      <th>fold</th>\n",
       "      <th>idx</th>\n",
       "      <th>last_char</th>\n",
       "      <th>n_frames</th>\n",
       "      <th>n_frames_per_char</th>\n",
       "      <th>participant_id</th>\n",
       "      <th>phrase</th>\n",
       "      <th>phrase_</th>\n",
       "      <th>phrase_dup</th>\n",
       "      <th>phrase_len</th>\n",
       "      <th>phrase_type</th>\n",
       "      <th>phrase_type_</th>\n",
       "      <th>sequence_id</th>\n",
       "      <th>weight</th>\n",
       "    </tr>\n",
       "  </thead>\n",
       "  <tbody>\n",
       "    <tr>\n",
       "      <th>0</th>\n",
       "      <td>0</td>\n",
       "      <td>[[nan, nan, nan, nan, nan, nan, nan, nan, nan,...</td>\n",
       "      <td>[0, 0, 0, 0, 0, 0, 0, 0, 0, 0, 0, 0, 0, 1, 0, ...</td>\n",
       "      <td>532011803</td>\n",
       "      <td>54</td>\n",
       "      <td>0</td>\n",
       "      <td>4463</td>\n",
       "      <td>36</td>\n",
       "      <td>5</td>\n",
       "      <td>0.192308</td>\n",
       "      <td>71</td>\n",
       "      <td>www.gesundheitsberatung.de</td>\n",
       "      <td>[55, 55, 55, 14, 39, 37, 51, 53, 46, 36, 40, 3...</td>\n",
       "      <td>1</td>\n",
       "      <td>26</td>\n",
       "      <td>url</td>\n",
       "      <td>1</td>\n",
       "      <td>427472226</td>\n",
       "      <td>1.0</td>\n",
       "    </tr>\n",
       "    <tr>\n",
       "      <th>1</th>\n",
       "      <td>1</td>\n",
       "      <td>[[nan, nan, nan, nan, nan, nan, nan, nan, nan,...</td>\n",
       "      <td>[0, 0, 0, 0, 0, 0, 0, 0, 0, 0, 0, 0, 1, 0, 0, ...</td>\n",
       "      <td>532011803</td>\n",
       "      <td>38</td>\n",
       "      <td>0</td>\n",
       "      <td>4600</td>\n",
       "      <td>17</td>\n",
       "      <td>189</td>\n",
       "      <td>7.875000</td>\n",
       "      <td>68</td>\n",
       "      <td>gamis-hari-old-fuchsia-2</td>\n",
       "      <td>[39, 33, 45, 41, 51, 13, 40, 33, 50, 41, 13, 4...</td>\n",
       "      <td>1</td>\n",
       "      <td>24</td>\n",
       "      <td>address</td>\n",
       "      <td>0</td>\n",
       "      <td>447742840</td>\n",
       "      <td>1.0</td>\n",
       "    </tr>\n",
       "    <tr>\n",
       "      <th>2</th>\n",
       "      <td>2</td>\n",
       "      <td>[[nan, nan, nan, nan, nan, nan, nan, nan, nan,...</td>\n",
       "      <td>[1, 0, 0, 0, 0, 0, 0, 0, 0, 0, 0, 0, 0, 0, 0, ...</td>\n",
       "      <td>532011803</td>\n",
       "      <td>22</td>\n",
       "      <td>0</td>\n",
       "      <td>4378</td>\n",
       "      <td>51</td>\n",
       "      <td>221</td>\n",
       "      <td>8.185185</td>\n",
       "      <td>141</td>\n",
       "      <td>7198 northeast 371st street</td>\n",
       "      <td>[23, 17, 25, 24, 1, 46, 47, 50, 52, 40, 37, 33...</td>\n",
       "      <td>1</td>\n",
       "      <td>27</td>\n",
       "      <td>address</td>\n",
       "      <td>0</td>\n",
       "      <td>419260259</td>\n",
       "      <td>1.0</td>\n",
       "    </tr>\n",
       "    <tr>\n",
       "      <th>3</th>\n",
       "      <td>3</td>\n",
       "      <td>[[nan, nan, nan, nan, nan, nan, nan, nan, nan,...</td>\n",
       "      <td>[1, 0, 0, 0, 0, 0, 0, 0, 0, 0, 0, 0, 0, 0, 0, ...</td>\n",
       "      <td>532011803</td>\n",
       "      <td>23</td>\n",
       "      <td>0</td>\n",
       "      <td>4429</td>\n",
       "      <td>20</td>\n",
       "      <td>6</td>\n",
       "      <td>0.272727</td>\n",
       "      <td>92</td>\n",
       "      <td>8370 ross lake twp 205</td>\n",
       "      <td>[24, 19, 23, 16, 1, 50, 47, 51, 51, 1, 44, 33,...</td>\n",
       "      <td>1</td>\n",
       "      <td>22</td>\n",
       "      <td>address</td>\n",
       "      <td>0</td>\n",
       "      <td>423699141</td>\n",
       "      <td>1.0</td>\n",
       "    </tr>\n",
       "    <tr>\n",
       "      <th>4</th>\n",
       "      <td>4</td>\n",
       "      <td>[[nan, nan, nan, nan, nan, nan, nan, nan, nan,...</td>\n",
       "      <td>[0, 0, 0, 0, 0, 0, 0, 0, 0, 0, 0, 0, 1, 0, 1, ...</td>\n",
       "      <td>532011803</td>\n",
       "      <td>48</td>\n",
       "      <td>0</td>\n",
       "      <td>4595</td>\n",
       "      <td>47</td>\n",
       "      <td>193</td>\n",
       "      <td>10.157895</td>\n",
       "      <td>81</td>\n",
       "      <td>q-wiatraki/?amp=amp</td>\n",
       "      <td>[49, 13, 55, 41, 33, 52, 50, 33, 43, 41, 15, 2...</td>\n",
       "      <td>0</td>\n",
       "      <td>19</td>\n",
       "      <td>url</td>\n",
       "      <td>1</td>\n",
       "      <td>446642935</td>\n",
       "      <td>1.0</td>\n",
       "    </tr>\n",
       "    <tr>\n",
       "      <th>...</th>\n",
       "      <td>...</td>\n",
       "      <td>...</td>\n",
       "      <td>...</td>\n",
       "      <td>...</td>\n",
       "      <td>...</td>\n",
       "      <td>...</td>\n",
       "      <td>...</td>\n",
       "      <td>...</td>\n",
       "      <td>...</td>\n",
       "      <td>...</td>\n",
       "      <td>...</td>\n",
       "      <td>...</td>\n",
       "      <td>...</td>\n",
       "      <td>...</td>\n",
       "      <td>...</td>\n",
       "      <td>...</td>\n",
       "      <td>...</td>\n",
       "      <td>...</td>\n",
       "      <td>...</td>\n",
       "    </tr>\n",
       "    <tr>\n",
       "      <th>67203</th>\n",
       "      <td>67203</td>\n",
       "      <td>[[nan, nan, nan, nan, nan, nan, nan, nan, nan,...</td>\n",
       "      <td>[0, 0, 0, 0, 0, 0, 0, 0, 0, 0, 0, 0, 0, 0, 1, ...</td>\n",
       "      <td>566963657</td>\n",
       "      <td>16</td>\n",
       "      <td>0</td>\n",
       "      <td>4948</td>\n",
       "      <td>14</td>\n",
       "      <td>35</td>\n",
       "      <td>7.000000</td>\n",
       "      <td>113</td>\n",
       "      <td>1635/</td>\n",
       "      <td>[17, 22, 19, 21, 15, 60, 0, 0, 0, 0, 0, 0, 0, ...</td>\n",
       "      <td>1</td>\n",
       "      <td>5</td>\n",
       "      <td>url</td>\n",
       "      <td>1</td>\n",
       "      <td>11881691</td>\n",
       "      <td>1.0</td>\n",
       "    </tr>\n",
       "    <tr>\n",
       "      <th>67204</th>\n",
       "      <td>67204</td>\n",
       "      <td>[[nan, nan, nan, nan, nan, nan, nan, nan, nan,...</td>\n",
       "      <td>[1, 0, 0, 0, 0, 0, 0, 0, 0, 0, 0, 0, 0, 0, 0, ...</td>\n",
       "      <td>566963657</td>\n",
       "      <td>37</td>\n",
       "      <td>0</td>\n",
       "      <td>5102</td>\n",
       "      <td>43</td>\n",
       "      <td>114</td>\n",
       "      <td>6.000000</td>\n",
       "      <td>73</td>\n",
       "      <td>frederick mcconnell</td>\n",
       "      <td>[38, 50, 37, 36, 37, 50, 41, 35, 43, 1, 45, 35...</td>\n",
       "      <td>0</td>\n",
       "      <td>19</td>\n",
       "      <td>address</td>\n",
       "      <td>0</td>\n",
       "      <td>32467021</td>\n",
       "      <td>1.0</td>\n",
       "    </tr>\n",
       "    <tr>\n",
       "      <th>67205</th>\n",
       "      <td>67205</td>\n",
       "      <td>[[nan, nan, nan, nan, nan, nan, nan, nan, nan,...</td>\n",
       "      <td>[1, 0, 0, 0, 0, 0, 0, 0, 0, 0, 0, 0, 0, 0, 0, ...</td>\n",
       "      <td>566963657</td>\n",
       "      <td>18</td>\n",
       "      <td>0</td>\n",
       "      <td>5071</td>\n",
       "      <td>51</td>\n",
       "      <td>98</td>\n",
       "      <td>5.764706</td>\n",
       "      <td>143</td>\n",
       "      <td>3936 ermine court</td>\n",
       "      <td>[19, 25, 19, 22, 1, 37, 50, 45, 41, 46, 37, 1,...</td>\n",
       "      <td>1</td>\n",
       "      <td>17</td>\n",
       "      <td>address</td>\n",
       "      <td>0</td>\n",
       "      <td>29383574</td>\n",
       "      <td>1.0</td>\n",
       "    </tr>\n",
       "    <tr>\n",
       "      <th>67206</th>\n",
       "      <td>67206</td>\n",
       "      <td>[[nan, nan, nan, nan, nan, nan, nan, nan, nan,...</td>\n",
       "      <td>[0, 0, 0, 0, 0, 0, 0, 0, 0, 0, 1, 0, 1, 0, 0, ...</td>\n",
       "      <td>566963657</td>\n",
       "      <td>10</td>\n",
       "      <td>0</td>\n",
       "      <td>4900</td>\n",
       "      <td>19</td>\n",
       "      <td>174</td>\n",
       "      <td>12.428572</td>\n",
       "      <td>1</td>\n",
       "      <td>+66-13-0443-04</td>\n",
       "      <td>[11, 22, 22, 13, 17, 19, 13, 16, 20, 20, 19, 1...</td>\n",
       "      <td>0</td>\n",
       "      <td>14</td>\n",
       "      <td>phone</td>\n",
       "      <td>2</td>\n",
       "      <td>5261652</td>\n",
       "      <td>1.0</td>\n",
       "    </tr>\n",
       "    <tr>\n",
       "      <th>67207</th>\n",
       "      <td>67207</td>\n",
       "      <td>[[nan, nan, nan, nan, nan, nan, nan, nan, nan,...</td>\n",
       "      <td>[1, 0, 0, 0, 0, 0, 0, 0, 0, 0, 0, 0, 0, 0, 0, ...</td>\n",
       "      <td>566963657</td>\n",
       "      <td>21</td>\n",
       "      <td>0</td>\n",
       "      <td>4901</td>\n",
       "      <td>51</td>\n",
       "      <td>82</td>\n",
       "      <td>4.555555</td>\n",
       "      <td>236</td>\n",
       "      <td>66 belspring court</td>\n",
       "      <td>[22, 22, 1, 34, 37, 44, 51, 48, 50, 41, 46, 39...</td>\n",
       "      <td>0</td>\n",
       "      <td>18</td>\n",
       "      <td>address</td>\n",
       "      <td>0</td>\n",
       "      <td>5408660</td>\n",
       "      <td>1.0</td>\n",
       "    </tr>\n",
       "  </tbody>\n",
       "</table>\n",
       "<p>67208 rows × 19 columns</p>\n",
       "</div>"
      ],
      "text/plain": [
       "       index                                             frames  \\\n",
       "0          0  [[nan, nan, nan, nan, nan, nan, nan, nan, nan,...   \n",
       "1          1  [[nan, nan, nan, nan, nan, nan, nan, nan, nan,...   \n",
       "2          2  [[nan, nan, nan, nan, nan, nan, nan, nan, nan,...   \n",
       "3          3  [[nan, nan, nan, nan, nan, nan, nan, nan, nan,...   \n",
       "4          4  [[nan, nan, nan, nan, nan, nan, nan, nan, nan,...   \n",
       "...      ...                                                ...   \n",
       "67203  67203  [[nan, nan, nan, nan, nan, nan, nan, nan, nan,...   \n",
       "67204  67204  [[nan, nan, nan, nan, nan, nan, nan, nan, nan,...   \n",
       "67205  67205  [[nan, nan, nan, nan, nan, nan, nan, nan, nan,...   \n",
       "67206  67206  [[nan, nan, nan, nan, nan, nan, nan, nan, nan,...   \n",
       "67207  67207  [[nan, nan, nan, nan, nan, nan, nan, nan, nan,...   \n",
       "\n",
       "                                               cls_label    file_id  \\\n",
       "0      [0, 0, 0, 0, 0, 0, 0, 0, 0, 0, 0, 0, 0, 1, 0, ...  532011803   \n",
       "1      [0, 0, 0, 0, 0, 0, 0, 0, 0, 0, 0, 0, 1, 0, 0, ...  532011803   \n",
       "2      [1, 0, 0, 0, 0, 0, 0, 0, 0, 0, 0, 0, 0, 0, 0, ...  532011803   \n",
       "3      [1, 0, 0, 0, 0, 0, 0, 0, 0, 0, 0, 0, 0, 0, 0, ...  532011803   \n",
       "4      [0, 0, 0, 0, 0, 0, 0, 0, 0, 0, 0, 0, 1, 0, 1, ...  532011803   \n",
       "...                                                  ...        ...   \n",
       "67203  [0, 0, 0, 0, 0, 0, 0, 0, 0, 0, 0, 0, 0, 0, 1, ...  566963657   \n",
       "67204  [1, 0, 0, 0, 0, 0, 0, 0, 0, 0, 0, 0, 0, 0, 0, ...  566963657   \n",
       "67205  [1, 0, 0, 0, 0, 0, 0, 0, 0, 0, 0, 0, 0, 0, 0, ...  566963657   \n",
       "67206  [0, 0, 0, 0, 0, 0, 0, 0, 0, 0, 1, 0, 1, 0, 0, ...  566963657   \n",
       "67207  [1, 0, 0, 0, 0, 0, 0, 0, 0, 0, 0, 0, 0, 0, 0, ...  566963657   \n",
       "\n",
       "       first_char  fold   idx  last_char  n_frames  n_frames_per_char  \\\n",
       "0              54     0  4463         36         5           0.192308   \n",
       "1              38     0  4600         17       189           7.875000   \n",
       "2              22     0  4378         51       221           8.185185   \n",
       "3              23     0  4429         20         6           0.272727   \n",
       "4              48     0  4595         47       193          10.157895   \n",
       "...           ...   ...   ...        ...       ...                ...   \n",
       "67203          16     0  4948         14        35           7.000000   \n",
       "67204          37     0  5102         43       114           6.000000   \n",
       "67205          18     0  5071         51        98           5.764706   \n",
       "67206          10     0  4900         19       174          12.428572   \n",
       "67207          21     0  4901         51        82           4.555555   \n",
       "\n",
       "       participant_id                       phrase  \\\n",
       "0                  71   www.gesundheitsberatung.de   \n",
       "1                  68     gamis-hari-old-fuchsia-2   \n",
       "2                 141  7198 northeast 371st street   \n",
       "3                  92       8370 ross lake twp 205   \n",
       "4                  81          q-wiatraki/?amp=amp   \n",
       "...               ...                          ...   \n",
       "67203             113                        1635/   \n",
       "67204              73          frederick mcconnell   \n",
       "67205             143            3936 ermine court   \n",
       "67206               1               +66-13-0443-04   \n",
       "67207             236           66 belspring court   \n",
       "\n",
       "                                                 phrase_  phrase_dup  \\\n",
       "0      [55, 55, 55, 14, 39, 37, 51, 53, 46, 36, 40, 3...           1   \n",
       "1      [39, 33, 45, 41, 51, 13, 40, 33, 50, 41, 13, 4...           1   \n",
       "2      [23, 17, 25, 24, 1, 46, 47, 50, 52, 40, 37, 33...           1   \n",
       "3      [24, 19, 23, 16, 1, 50, 47, 51, 51, 1, 44, 33,...           1   \n",
       "4      [49, 13, 55, 41, 33, 52, 50, 33, 43, 41, 15, 2...           0   \n",
       "...                                                  ...         ...   \n",
       "67203  [17, 22, 19, 21, 15, 60, 0, 0, 0, 0, 0, 0, 0, ...           1   \n",
       "67204  [38, 50, 37, 36, 37, 50, 41, 35, 43, 1, 45, 35...           0   \n",
       "67205  [19, 25, 19, 22, 1, 37, 50, 45, 41, 46, 37, 1,...           1   \n",
       "67206  [11, 22, 22, 13, 17, 19, 13, 16, 20, 20, 19, 1...           0   \n",
       "67207  [22, 22, 1, 34, 37, 44, 51, 48, 50, 41, 46, 39...           0   \n",
       "\n",
       "       phrase_len phrase_type  phrase_type_  sequence_id  weight  \n",
       "0              26         url             1    427472226     1.0  \n",
       "1              24     address             0    447742840     1.0  \n",
       "2              27     address             0    419260259     1.0  \n",
       "3              22     address             0    423699141     1.0  \n",
       "4              19         url             1    446642935     1.0  \n",
       "...           ...         ...           ...          ...     ...  \n",
       "67203           5         url             1     11881691     1.0  \n",
       "67204          19     address             0     32467021     1.0  \n",
       "67205          17     address             0     29383574     1.0  \n",
       "67206          14       phone             2      5261652     1.0  \n",
       "67207          18     address             0      5408660     1.0  \n",
       "\n",
       "[67208 rows x 19 columns]"
      ]
     },
     "execution_count": 2,
     "metadata": {},
     "output_type": "execute_result"
    }
   ],
   "source": [
    "df = pd.read_feather(f'{FLAGS.root}/train.fea')\n",
    "df"
   ]
  },
  {
   "cell_type": "code",
   "execution_count": 3,
   "metadata": {},
   "outputs": [],
   "source": [
    "from datasets import Dataset\n",
    "ds = Dataset.from_pandas(df)"
   ]
  },
  {
   "cell_type": "code",
   "execution_count": 4,
   "metadata": {},
   "outputs": [],
   "source": [
    "ds = ds.with_format('tf')"
   ]
  },
  {
   "cell_type": "code",
   "execution_count": 5,
   "metadata": {},
   "outputs": [
    {
     "data": {
      "text/plain": [
       "<tf.Tensor: shape=(32,), dtype=int64, numpy=\n",
       "array([55, 55, 55, 14, 39, 37, 51, 53, 46, 36, 40, 37, 41, 52, 51, 34, 37,\n",
       "       50, 33, 52, 53, 46, 39, 14, 36, 37, 60,  0,  0,  0,  0,  0])>"
      ]
     },
     "execution_count": 5,
     "metadata": {},
     "output_type": "execute_result"
    }
   ],
   "source": [
    "ds[0]['phrase_']"
   ]
  },
  {
   "cell_type": "code",
   "execution_count": 6,
   "metadata": {},
   "outputs": [
    {
     "data": {
      "text/plain": [
       "67208"
      ]
     },
     "execution_count": 6,
     "metadata": {},
     "output_type": "execute_result"
    }
   ],
   "source": [
    "len(ds)"
   ]
  },
  {
   "cell_type": "code",
   "execution_count": 7,
   "metadata": {},
   "outputs": [],
   "source": [
    "ds2 = ds.to_tf_dataset(batch_size=128)"
   ]
  },
  {
   "cell_type": "code",
   "execution_count": 8,
   "metadata": {},
   "outputs": [
    {
     "name": "stdout",
     "output_type": "stream",
     "text": [
      "tf.Tensor(0, shape=(), dtype=int64)\n",
      "tf.Tensor(1, shape=(), dtype=int64)\n",
      "tf.Tensor(2, shape=(), dtype=int64)\n",
      "tf.Tensor(3, shape=(), dtype=int64)\n",
      "tf.Tensor(4, shape=(), dtype=int64)\n",
      "tf.Tensor(5, shape=(), dtype=int64)\n",
      "tf.Tensor(6, shape=(), dtype=int64)\n",
      "tf.Tensor(7, shape=(), dtype=int64)\n",
      "tf.Tensor(8, shape=(), dtype=int64)\n",
      "tf.Tensor(9, shape=(), dtype=int64)\n",
      "tf.Tensor(10, shape=(), dtype=int64)\n"
     ]
    }
   ],
   "source": [
    "for i, item in enumerate(ds):\n",
    "  print(item['index'])\n",
    "  if i == 10:\n",
    "    break"
   ]
  },
  {
   "cell_type": "code",
   "execution_count": 9,
   "metadata": {},
   "outputs": [
    {
     "name": "stdout",
     "output_type": "stream",
     "text": [
      "tf.Tensor(61756, shape=(), dtype=int64)\n",
      "tf.Tensor(17180, shape=(), dtype=int64)\n",
      "tf.Tensor(62630, shape=(), dtype=int64)\n",
      "tf.Tensor(36632, shape=(), dtype=int64)\n",
      "tf.Tensor(49848, shape=(), dtype=int64)\n",
      "tf.Tensor(17439, shape=(), dtype=int64)\n",
      "tf.Tensor(63272, shape=(), dtype=int64)\n",
      "tf.Tensor(19883, shape=(), dtype=int64)\n",
      "tf.Tensor(4897, shape=(), dtype=int64)\n",
      "tf.Tensor(36660, shape=(), dtype=int64)\n",
      "tf.Tensor(1553, shape=(), dtype=int64)\n"
     ]
    }
   ],
   "source": [
    "ds = ds.shuffle(seed=42)\n",
    "for i, item in enumerate(ds):\n",
    "  print(item['index'])\n",
    "  if i == 10:\n",
    "    break"
   ]
  },
  {
   "cell_type": "code",
   "execution_count": 10,
   "metadata": {},
   "outputs": [
    {
     "name": "stdout",
     "output_type": "stream",
     "text": [
      "tf.Tensor(61756, shape=(), dtype=int64)\n",
      "tf.Tensor(17180, shape=(), dtype=int64)\n",
      "tf.Tensor(62630, shape=(), dtype=int64)\n",
      "tf.Tensor(36632, shape=(), dtype=int64)\n",
      "tf.Tensor(49848, shape=(), dtype=int64)\n",
      "tf.Tensor(17439, shape=(), dtype=int64)\n",
      "tf.Tensor(63272, shape=(), dtype=int64)\n",
      "tf.Tensor(19883, shape=(), dtype=int64)\n",
      "tf.Tensor(4897, shape=(), dtype=int64)\n",
      "tf.Tensor(36660, shape=(), dtype=int64)\n",
      "tf.Tensor(1553, shape=(), dtype=int64)\n"
     ]
    }
   ],
   "source": [
    "for i, item in enumerate(ds):\n",
    "  print(item['index'])\n",
    "  if i == 10:\n",
    "    break"
   ]
  },
  {
   "cell_type": "code",
   "execution_count": 11,
   "metadata": {},
   "outputs": [
    {
     "data": {
      "text/plain": [
       "['index',\n",
       " 'frames',\n",
       " 'cls_label',\n",
       " 'file_id',\n",
       " 'first_char',\n",
       " 'fold',\n",
       " 'idx',\n",
       " 'last_char',\n",
       " 'n_frames',\n",
       " 'n_frames_per_char',\n",
       " 'participant_id',\n",
       " 'phrase',\n",
       " 'phrase_',\n",
       " 'phrase_dup',\n",
       " 'phrase_len',\n",
       " 'phrase_type',\n",
       " 'phrase_type_',\n",
       " 'sequence_id',\n",
       " 'weight']"
      ]
     },
     "execution_count": 11,
     "metadata": {},
     "output_type": "execute_result"
    }
   ],
   "source": [
    "ds.column_names"
   ]
  },
  {
   "cell_type": "code",
   "execution_count": 12,
   "metadata": {},
   "outputs": [],
   "source": [
    "# from src.tf.preprocess import PreprocessLayer\n",
    "# preprocesor = PreprocessLayer(320)\n",
    "# ds = ds.map(lambda x: preprocesor(x['frames']), batched=True)"
   ]
  },
  {
   "cell_type": "code",
   "execution_count": 13,
   "metadata": {},
   "outputs": [],
   "source": [
    "from src.dataset import PreProcssor\n",
    "preprocesor = PreProcssor()"
   ]
  },
  {
   "cell_type": "code",
   "execution_count": 14,
   "metadata": {},
   "outputs": [],
   "source": [
    "  # ds = ds.map(decode_tfrec, tf.data.AUTOTUNE)\n",
    "  # ds = ds.map(lambda x: preprocess(x, augment=augment, max_len=max_len), tf.data.AUTOTUNE)\n",
    "\n",
    "  # if repeat: \n",
    "  #     ds = ds.repeat()\n",
    "      \n",
    "  # if shuffle:\n",
    "  #     ds = ds.shuffle(shuffle)\n",
    "  #     options = tf.data.Options()\n",
    "  #     options.experimental_deterministic = (False)\n",
    "  #     ds = ds.with_options(options)\n",
    "  \n",
    "  # if batch_size:\n",
    "  #     ds = ds.padded_batch(batch_size, padding_values=PAD, padded_shapes=([max_len,CHANNELS],[NUM_CLASSES]), drop_remainder=drop_remainder)\n",
    "\n",
    "ds2 = ds.to_tf_dataset(batch_size=1)\n",
    "ds2 = ds2.map(preprocesor, tf.data.AUTOTUNE)\n",
    "ds2 = ds2.shuffle(10240)\n",
    "options = tf.data.Options()\n",
    "options.experimental_deterministic = (False)\n",
    "ds2 = ds2.prefetch(tf.data.AUTOTUNE)\n",
    "ds2 = ds2.padded_batch(128, drop_remainder=True)"
   ]
  },
  {
   "cell_type": "code",
   "execution_count": 15,
   "metadata": {},
   "outputs": [],
   "source": [
    "m = iter(ds2).next()"
   ]
  },
  {
   "cell_type": "code",
   "execution_count": 16,
   "metadata": {},
   "outputs": [
    {
     "name": "stdout",
     "output_type": "stream",
     "text": [
      "index (128, 1)\n",
      "frames (128, 128, 176)\n",
      "cls_label (128, 1, 59)\n",
      "file_id (128, 1)\n",
      "first_char (128, 1)\n",
      "fold (128, 1)\n",
      "idx (128, 1)\n",
      "last_char (128, 1)\n",
      "n_frames (128, 1)\n",
      "n_frames_per_char (128, 1)\n",
      "participant_id (128, 1)\n",
      "phrase (128, 1)\n",
      "phrase_ (128, 1, 32)\n",
      "phrase_dup (128, 1)\n",
      "phrase_len (128, 1)\n",
      "phrase_type (128, 1)\n",
      "phrase_type_ (128, 1)\n",
      "sequence_id (128, 1)\n",
      "weight (128, 1)\n"
     ]
    }
   ],
   "source": [
    "for key, val in m[0].items():\n",
    "  print(key, val.shape)"
   ]
  },
  {
   "cell_type": "code",
   "execution_count": 17,
   "metadata": {},
   "outputs": [
    {
     "data": {
      "text/plain": [
       "<tf.Tensor: shape=(128, 128, 176), dtype=float32, numpy=\n",
       "array([[[0.        , 0.        , 0.        , ..., 0.70683056,\n",
       "         0.7065306 , 0.70642596],\n",
       "        [0.        , 0.        , 0.        , ..., 0.70331323,\n",
       "         0.704155  , 0.7051564 ],\n",
       "        [0.        , 0.        , 0.        , ..., 0.70279586,\n",
       "         0.70291483, 0.70327395],\n",
       "        ...,\n",
       "        [0.        , 0.        , 0.        , ..., 0.        ,\n",
       "         0.        , 0.        ],\n",
       "        [0.        , 0.        , 0.        , ..., 0.        ,\n",
       "         0.        , 0.        ],\n",
       "        [0.        , 0.        , 0.        , ..., 0.        ,\n",
       "         0.        , 0.        ]],\n",
       "\n",
       "       [[0.        , 0.        , 0.        , ..., 0.47675666,\n",
       "         0.47457018, 0.474172  ],\n",
       "        [0.        , 0.        , 0.        , ..., 0.47665372,\n",
       "         0.47419527, 0.47366825],\n",
       "        [0.        , 0.        , 0.        , ..., 0.47695163,\n",
       "         0.47453222, 0.4739863 ],\n",
       "        ...,\n",
       "        [0.        , 0.        , 0.        , ..., 0.5445638 ,\n",
       "         0.542692  , 0.54205924],\n",
       "        [0.        , 0.        , 0.        , ..., 0.5562788 ,\n",
       "         0.5549297 , 0.55482155],\n",
       "        [0.        , 0.        , 0.        , ..., 0.5741456 ,\n",
       "         0.57269645, 0.5726373 ]],\n",
       "\n",
       "       [[0.9043642 , 0.8194797 , 0.75187224, ..., 0.59029895,\n",
       "         0.5888207 , 0.58801585],\n",
       "        [0.8684607 , 0.7953562 , 0.74383795, ..., 0.5924104 ,\n",
       "         0.59109324, 0.5903416 ],\n",
       "        [0.82687885, 0.7460677 , 0.6928969 , ..., 0.5948919 ,\n",
       "         0.5936314 , 0.59296453],\n",
       "        ...,\n",
       "        [0.        , 0.        , 0.        , ..., 0.        ,\n",
       "         0.        , 0.        ],\n",
       "        [0.        , 0.        , 0.        , ..., 0.        ,\n",
       "         0.        , 0.        ],\n",
       "        [0.        , 0.        , 0.        , ..., 0.        ,\n",
       "         0.        , 0.        ]],\n",
       "\n",
       "       ...,\n",
       "\n",
       "       [[0.        , 0.        , 0.        , ..., 0.51242024,\n",
       "         0.51103216, 0.5102291 ],\n",
       "        [0.        , 0.        , 0.        , ..., 0.511261  ,\n",
       "         0.50974536, 0.5088263 ],\n",
       "        [0.        , 0.        , 0.        , ..., 0.5107676 ,\n",
       "         0.50940746, 0.5085728 ],\n",
       "        ...,\n",
       "        [0.        , 0.        , 0.        , ..., 0.49324858,\n",
       "         0.49177366, 0.49085978],\n",
       "        [0.        , 0.        , 0.        , ..., 0.49223673,\n",
       "         0.49087805, 0.4900062 ],\n",
       "        [0.        , 0.        , 0.        , ..., 0.491528  ,\n",
       "         0.49014604, 0.48927444]],\n",
       "\n",
       "       [[0.        , 0.        , 0.        , ..., 0.47587687,\n",
       "         0.47489423, 0.4744452 ],\n",
       "        [0.        , 0.        , 0.        , ..., 0.47394735,\n",
       "         0.47318462, 0.47282633],\n",
       "        [0.        , 0.        , 0.        , ..., 0.47364107,\n",
       "         0.47213998, 0.47144338],\n",
       "        ...,\n",
       "        [0.        , 0.        , 0.        , ..., 0.47013938,\n",
       "         0.46914986, 0.46902102],\n",
       "        [0.        , 0.        , 0.        , ..., 0.4704236 ,\n",
       "         0.46936065, 0.4691514 ],\n",
       "        [0.        , 0.        , 0.        , ..., 0.4706914 ,\n",
       "         0.4696026 , 0.46940333]],\n",
       "\n",
       "       [[0.72838384, 0.5945324 , 0.51156574, ..., 0.5753451 ,\n",
       "         0.5750065 , 0.57546604],\n",
       "        [0.7283374 , 0.61063665, 0.53627056, ..., 0.5759432 ,\n",
       "         0.57553756, 0.576022  ],\n",
       "        [0.7129729 , 0.57094824, 0.48240685, ..., 0.5739321 ,\n",
       "         0.5735395 , 0.5739646 ],\n",
       "        ...,\n",
       "        [0.        , 0.        , 0.        , ..., 0.        ,\n",
       "         0.        , 0.        ],\n",
       "        [0.        , 0.        , 0.        , ..., 0.        ,\n",
       "         0.        , 0.        ],\n",
       "        [0.        , 0.        , 0.        , ..., 0.        ,\n",
       "         0.        , 0.        ]]], dtype=float32)>"
      ]
     },
     "execution_count": 17,
     "metadata": {},
     "output_type": "execute_result"
    }
   ],
   "source": [
    "m[0]['frames']"
   ]
  },
  {
   "cell_type": "code",
   "execution_count": 18,
   "metadata": {},
   "outputs": [
    {
     "data": {
      "text/plain": [
       "<tf.Tensor: shape=(128, 1, 32), dtype=int64, numpy=\n",
       "array([[[55, 55, 55, ...,  0,  0,  0]],\n",
       "\n",
       "       [[40, 47, 44, ...,  0,  0,  0]],\n",
       "\n",
       "       [[24, 22, 23, ...,  0,  0,  0]],\n",
       "\n",
       "       ...,\n",
       "\n",
       "       [[36, 41, 51, ...,  0,  0,  0]],\n",
       "\n",
       "       [[40, 52, 52, ...,  0,  0,  0]],\n",
       "\n",
       "       [[45, 47, 34, ...,  0,  0,  0]]])>"
      ]
     },
     "execution_count": 18,
     "metadata": {},
     "output_type": "execute_result"
    }
   ],
   "source": [
    "m[0]['phrase_']"
   ]
  },
  {
   "cell_type": "code",
   "execution_count": 19,
   "metadata": {},
   "outputs": [
    {
     "name": "stdout",
     "output_type": "stream",
     "text": [
      "\u001b[0;31mSignature:\u001b[0m\n",
      "\u001b[0mds\u001b[0m\u001b[0;34m.\u001b[0m\u001b[0mto_tf_dataset\u001b[0m\u001b[0;34m(\u001b[0m\u001b[0;34m\u001b[0m\n",
      "\u001b[0;34m\u001b[0m    \u001b[0mbatch_size\u001b[0m\u001b[0;34m:\u001b[0m \u001b[0mint\u001b[0m\u001b[0;34m,\u001b[0m\u001b[0;34m\u001b[0m\n",
      "\u001b[0;34m\u001b[0m    \u001b[0mcolumns\u001b[0m\u001b[0;34m:\u001b[0m \u001b[0mUnion\u001b[0m\u001b[0;34m[\u001b[0m\u001b[0mstr\u001b[0m\u001b[0;34m,\u001b[0m \u001b[0mList\u001b[0m\u001b[0;34m[\u001b[0m\u001b[0mstr\u001b[0m\u001b[0;34m]\u001b[0m\u001b[0;34m,\u001b[0m \u001b[0mNoneType\u001b[0m\u001b[0;34m]\u001b[0m \u001b[0;34m=\u001b[0m \u001b[0;32mNone\u001b[0m\u001b[0;34m,\u001b[0m\u001b[0;34m\u001b[0m\n",
      "\u001b[0;34m\u001b[0m    \u001b[0mshuffle\u001b[0m\u001b[0;34m:\u001b[0m \u001b[0mbool\u001b[0m \u001b[0;34m=\u001b[0m \u001b[0;32mFalse\u001b[0m\u001b[0;34m,\u001b[0m\u001b[0;34m\u001b[0m\n",
      "\u001b[0;34m\u001b[0m    \u001b[0mcollate_fn\u001b[0m\u001b[0;34m:\u001b[0m \u001b[0mOptional\u001b[0m\u001b[0;34m[\u001b[0m\u001b[0mCallable\u001b[0m\u001b[0;34m]\u001b[0m \u001b[0;34m=\u001b[0m \u001b[0;32mNone\u001b[0m\u001b[0;34m,\u001b[0m\u001b[0;34m\u001b[0m\n",
      "\u001b[0;34m\u001b[0m    \u001b[0mdrop_remainder\u001b[0m\u001b[0;34m:\u001b[0m \u001b[0mbool\u001b[0m \u001b[0;34m=\u001b[0m \u001b[0;32mFalse\u001b[0m\u001b[0;34m,\u001b[0m\u001b[0;34m\u001b[0m\n",
      "\u001b[0;34m\u001b[0m    \u001b[0mcollate_fn_args\u001b[0m\u001b[0;34m:\u001b[0m \u001b[0mOptional\u001b[0m\u001b[0;34m[\u001b[0m\u001b[0mDict\u001b[0m\u001b[0;34m[\u001b[0m\u001b[0mstr\u001b[0m\u001b[0;34m,\u001b[0m \u001b[0mAny\u001b[0m\u001b[0;34m]\u001b[0m\u001b[0;34m]\u001b[0m \u001b[0;34m=\u001b[0m \u001b[0;32mNone\u001b[0m\u001b[0;34m,\u001b[0m\u001b[0;34m\u001b[0m\n",
      "\u001b[0;34m\u001b[0m    \u001b[0mlabel_cols\u001b[0m\u001b[0;34m:\u001b[0m \u001b[0mUnion\u001b[0m\u001b[0;34m[\u001b[0m\u001b[0mstr\u001b[0m\u001b[0;34m,\u001b[0m \u001b[0mList\u001b[0m\u001b[0;34m[\u001b[0m\u001b[0mstr\u001b[0m\u001b[0;34m]\u001b[0m\u001b[0;34m,\u001b[0m \u001b[0mNoneType\u001b[0m\u001b[0;34m]\u001b[0m \u001b[0;34m=\u001b[0m \u001b[0;32mNone\u001b[0m\u001b[0;34m,\u001b[0m\u001b[0;34m\u001b[0m\n",
      "\u001b[0;34m\u001b[0m    \u001b[0mprefetch\u001b[0m\u001b[0;34m:\u001b[0m \u001b[0mbool\u001b[0m \u001b[0;34m=\u001b[0m \u001b[0;32mTrue\u001b[0m\u001b[0;34m,\u001b[0m\u001b[0;34m\u001b[0m\n",
      "\u001b[0;34m\u001b[0m    \u001b[0mnum_workers\u001b[0m\u001b[0;34m:\u001b[0m \u001b[0mint\u001b[0m \u001b[0;34m=\u001b[0m \u001b[0;36m0\u001b[0m\u001b[0;34m,\u001b[0m\u001b[0;34m\u001b[0m\n",
      "\u001b[0;34m\u001b[0m    \u001b[0mnum_test_batches\u001b[0m\u001b[0;34m:\u001b[0m \u001b[0mint\u001b[0m \u001b[0;34m=\u001b[0m \u001b[0;36m20\u001b[0m\u001b[0;34m,\u001b[0m\u001b[0;34m\u001b[0m\n",
      "\u001b[0;34m\u001b[0m\u001b[0;34m)\u001b[0m\u001b[0;34m\u001b[0m\u001b[0;34m\u001b[0m\u001b[0m\n",
      "\u001b[0;31mDocstring:\u001b[0m\n",
      "Create a `tf.data.Dataset` from the underlying Dataset. This `tf.data.Dataset` will load and collate batches from\n",
      "the Dataset, and is suitable for passing to methods like `model.fit()` or `model.predict()`. The dataset will yield\n",
      "`dicts` for both inputs and labels unless the `dict` would contain only a single key, in which case a raw\n",
      "`tf.Tensor` is yielded instead.\n",
      "\n",
      "Args:\n",
      "    batch_size (`int`):\n",
      "        Size of batches to load from the dataset.\n",
      "    columns (`List[str]` or `str`, *optional*):\n",
      "        Dataset column(s) to load in the `tf.data.Dataset`.\n",
      "        Column names that are created by the `collate_fn` and that do not exist in the original dataset can be used.\n",
      "    shuffle(`bool`, defaults to `False`):\n",
      "        Shuffle the dataset order when loading. Recommended `True` for training, `False` for\n",
      "        validation/evaluation.\n",
      "    drop_remainder(`bool`, defaults to `False`):\n",
      "        Drop the last incomplete batch when loading. Ensures\n",
      "        that all batches yielded by the dataset will have the same length on the batch dimension.\n",
      "    collate_fn(`Callable`, *optional*):\n",
      "        A function or callable object (such as a `DataCollator`) that will collate\n",
      "        lists of samples into a batch.\n",
      "    collate_fn_args (`Dict`, *optional*):\n",
      "        An optional `dict` of keyword arguments to be passed to the\n",
      "        `collate_fn`.\n",
      "    label_cols (`List[str]` or `str`, defaults to `None`):\n",
      "        Dataset column(s) to load as labels.\n",
      "        Note that many models compute loss internally rather than letting Keras do it, in which case\n",
      "        passing the labels here is optional, as long as they're in the input `columns`.\n",
      "    prefetch (`bool`, defaults to `True`):\n",
      "        Whether to run the dataloader in a separate thread and maintain\n",
      "        a small buffer of batches for training. Improves performance by allowing data to be loaded in the\n",
      "        background while the model is training.\n",
      "    num_workers (`int`, defaults to `0`):\n",
      "        Number of workers to use for loading the dataset. Only supported on Python versions >= 3.8.\n",
      "    num_test_batches (`int`, defaults to `20`):\n",
      "        Number of batches to use to infer the output signature of the dataset.\n",
      "        The higher this number, the more accurate the signature will be, but the longer it will take to\n",
      "        create the dataset.\n",
      "\n",
      "Returns:\n",
      "    `tf.data.Dataset`\n",
      "\n",
      "Example:\n",
      "\n",
      "```py\n",
      ">>> ds_train = ds[\"train\"].to_tf_dataset(\n",
      "...    columns=['input_ids', 'token_type_ids', 'attention_mask', 'label'],\n",
      "...    shuffle=True,\n",
      "...    batch_size=16,\n",
      "...    collate_fn=data_collator,\n",
      "... )\n",
      "```\n",
      "\u001b[0;31mFile:\u001b[0m      ~/.local/lib/python3.10/site-packages/datasets/arrow_dataset.py\n",
      "\u001b[0;31mType:\u001b[0m      method"
     ]
    }
   ],
   "source": [
    "ds.to_tf_dataset?"
   ]
  },
  {
   "cell_type": "code",
   "execution_count": 20,
   "metadata": {},
   "outputs": [
    {
     "data": {
      "text/plain": [
       "<_PrefetchDataset element_spec={'index': TensorSpec(shape=(None,), dtype=tf.int64, name=None), 'frames': TensorSpec(shape=(None, None, 176), dtype=tf.float32, name=None), 'cls_label': TensorSpec(shape=(None, 59), dtype=tf.int64, name=None), 'file_id': TensorSpec(shape=(None,), dtype=tf.int64, name=None), 'first_char': TensorSpec(shape=(None,), dtype=tf.int64, name=None), 'fold': TensorSpec(shape=(None,), dtype=tf.int64, name=None), 'idx': TensorSpec(shape=(None,), dtype=tf.int64, name=None), 'last_char': TensorSpec(shape=(None,), dtype=tf.int64, name=None), 'n_frames': TensorSpec(shape=(None,), dtype=tf.int64, name=None), 'n_frames_per_char': TensorSpec(shape=(None,), dtype=tf.float32, name=None), 'participant_id': TensorSpec(shape=(None,), dtype=tf.int64, name=None), 'phrase': TensorSpec(shape=(None,), dtype=tf.string, name=None), 'phrase_': TensorSpec(shape=(None, 32), dtype=tf.int64, name=None), 'phrase_dup': TensorSpec(shape=(None,), dtype=tf.int64, name=None), 'phrase_len': TensorSpec(shape=(None,), dtype=tf.int64, name=None), 'phrase_type': TensorSpec(shape=(None,), dtype=tf.string, name=None), 'phrase_type_': TensorSpec(shape=(None,), dtype=tf.int64, name=None), 'sequence_id': TensorSpec(shape=(None,), dtype=tf.int64, name=None), 'weight': TensorSpec(shape=(None,), dtype=tf.float32, name=None)}>"
      ]
     },
     "execution_count": 20,
     "metadata": {},
     "output_type": "execute_result"
    }
   ],
   "source": [
    "ds2 = ds.to_tf_dataset(batch_size=128)\n",
    "ds2"
   ]
  },
  {
   "cell_type": "code",
   "execution_count": 21,
   "metadata": {},
   "outputs": [
    {
     "data": {
      "text/plain": [
       "<_ParallelMapDataset element_spec=({'index': TensorSpec(shape=(None,), dtype=tf.int64, name=None), 'frames': TensorSpec(shape=(128, 176), dtype=tf.float32, name=None), 'cls_label': TensorSpec(shape=(None, 59), dtype=tf.int64, name=None), 'file_id': TensorSpec(shape=(None,), dtype=tf.int64, name=None), 'first_char': TensorSpec(shape=(None,), dtype=tf.int64, name=None), 'fold': TensorSpec(shape=(None,), dtype=tf.int64, name=None), 'idx': TensorSpec(shape=(None,), dtype=tf.int64, name=None), 'last_char': TensorSpec(shape=(None,), dtype=tf.int64, name=None), 'n_frames': TensorSpec(shape=(None,), dtype=tf.int64, name=None), 'n_frames_per_char': TensorSpec(shape=(None,), dtype=tf.float32, name=None), 'participant_id': TensorSpec(shape=(None,), dtype=tf.int64, name=None), 'phrase': TensorSpec(shape=(None,), dtype=tf.string, name=None), 'phrase_': TensorSpec(shape=(None, 32), dtype=tf.int64, name=None), 'phrase_dup': TensorSpec(shape=(None,), dtype=tf.int64, name=None), 'phrase_len': TensorSpec(shape=(None,), dtype=tf.int64, name=None), 'phrase_type': TensorSpec(shape=(None,), dtype=tf.string, name=None), 'phrase_type_': TensorSpec(shape=(None,), dtype=tf.int64, name=None), 'sequence_id': TensorSpec(shape=(None,), dtype=tf.int64, name=None), 'weight': TensorSpec(shape=(None,), dtype=tf.float32, name=None)}, TensorSpec(shape=(None,), dtype=tf.int64, name=None))>"
      ]
     },
     "execution_count": 21,
     "metadata": {},
     "output_type": "execute_result"
    }
   ],
   "source": [
    "ds2 = ds2.map(preprocesor, tf.data.AUTOTUNE)\n",
    "ds2"
   ]
  },
  {
   "cell_type": "code",
   "execution_count": 22,
   "metadata": {},
   "outputs": [
    {
     "data": {
      "text/plain": [
       "<_PaddedBatchDataset element_spec=({'index': TensorSpec(shape=(128, None), dtype=tf.int64, name=None), 'frames': TensorSpec(shape=(128, 128, 176), dtype=tf.float32, name=None), 'cls_label': TensorSpec(shape=(128, None, 59), dtype=tf.int64, name=None), 'file_id': TensorSpec(shape=(128, None), dtype=tf.int64, name=None), 'first_char': TensorSpec(shape=(128, None), dtype=tf.int64, name=None), 'fold': TensorSpec(shape=(128, None), dtype=tf.int64, name=None), 'idx': TensorSpec(shape=(128, None), dtype=tf.int64, name=None), 'last_char': TensorSpec(shape=(128, None), dtype=tf.int64, name=None), 'n_frames': TensorSpec(shape=(128, None), dtype=tf.int64, name=None), 'n_frames_per_char': TensorSpec(shape=(128, None), dtype=tf.float32, name=None), 'participant_id': TensorSpec(shape=(128, None), dtype=tf.int64, name=None), 'phrase': TensorSpec(shape=(128, None), dtype=tf.string, name=None), 'phrase_': TensorSpec(shape=(128, None, 32), dtype=tf.int64, name=None), 'phrase_dup': TensorSpec(shape=(128, None), dtype=tf.int64, name=None), 'phrase_len': TensorSpec(shape=(128, None), dtype=tf.int64, name=None), 'phrase_type': TensorSpec(shape=(128, None), dtype=tf.string, name=None), 'phrase_type_': TensorSpec(shape=(128, None), dtype=tf.int64, name=None), 'sequence_id': TensorSpec(shape=(128, None), dtype=tf.int64, name=None), 'weight': TensorSpec(shape=(128, None), dtype=tf.float32, name=None)}, TensorSpec(shape=(128, None), dtype=tf.int64, name=None))>"
      ]
     },
     "execution_count": 22,
     "metadata": {},
     "output_type": "execute_result"
    }
   ],
   "source": [
    "ds2 = ds2.shuffle(10240)\n",
    "options = tf.data.Options()\n",
    "options.experimental_deterministic = (False)\n",
    "ds2 = ds2.prefetch(tf.data.AUTOTUNE)\n",
    "ds2 = ds2.padded_batch(128, drop_remainder=True)\n",
    "ds2"
   ]
  },
  {
   "cell_type": "code",
   "execution_count": null,
   "metadata": {},
   "outputs": [],
   "source": []
  }
 ],
 "metadata": {
  "kernelspec": {
   "display_name": "tf",
   "language": "python",
   "name": "python3"
  },
  "language_info": {
   "codemirror_mode": {
    "name": "ipython",
    "version": 3
   },
   "file_extension": ".py",
   "mimetype": "text/x-python",
   "name": "python",
   "nbconvert_exporter": "python",
   "pygments_lexer": "ipython3",
   "version": "3.10.10"
  },
  "orig_nbformat": 4
 },
 "nbformat": 4,
 "nbformat_minor": 2
}
