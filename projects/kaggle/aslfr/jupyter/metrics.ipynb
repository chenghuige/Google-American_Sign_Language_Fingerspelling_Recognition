{
 "cells": [
  {
   "cell_type": "code",
   "execution_count": 35,
   "metadata": {},
   "outputs": [],
   "source": [
    "%%capture\n",
    "import sys\n",
    "sys.path.append('/work/pikachu/utils/')\n",
    "sys.path.append('/work/pikachu/third/')\n",
    "sys.path.append('/work/pikachu/projects/kaggle/aslfr/third/NeMo')\n",
    "sys.path.append('..')\n",
    "from gezi.common import *\n",
    "import gezi\n",
    "from src.config import *\n",
    "from src.vis import *\n",
    "gezi.init_flags()"
   ]
  },
  {
   "cell_type": "code",
   "execution_count": 36,
   "metadata": {},
   "outputs": [],
   "source": [
    "STEP = 3\n",
    "FOLDS = 4\n",
    "def gen_metrics(root, folds=4, step=STEP, force_full=False):\n",
    "  dfs= []\n",
    "  fold_counts = defaultdict(int)\n",
    "  for fold in range(folds):\n",
    "    pattern = f'{root}/{fold}/*/metrics.csv'\n",
    "    files = glob.glob(pattern)\n",
    "    if not files:\n",
    "      continue\n",
    "    files = sorted(files, key=lambda x: os.path.getmtime(x))\n",
    "    for file in files:\n",
    "      if not gezi.non_empty(file):\n",
    "        continue\n",
    "      df = pd.read_csv(file)\n",
    "      if not len(df):\n",
    "        continue\n",
    "      if force_full and len(df) != step:\n",
    "        continue\n",
    "      if 'step' not in df.columns:\n",
    "        df['step'] = range(len(df))\n",
    "      model = os.path.basename(os.path.dirname(file))\n",
    "      try:\n",
    "        if df.step.max() >= step:\n",
    "          fold_counts[model] += 1\n",
    "      except Exception:\n",
    "        # ic(df)\n",
    "        continue\n",
    "      df['model'] = model\n",
    "      df['mtime'] = os.path.getmtime(file)\n",
    "      df['ctime'] = os.path.getctime(file)\n",
    "      df['fold'] = fold\n",
    "      dfs.append(df)\n",
    "      # dfs = sorted(dfs, key=lambda x: -len(x.columns))\n",
    "  \n",
    "  df = pd.concat(list(dfs))\n",
    "  df['num_folds'] = df.model.apply(lambda x: fold_counts[x])\n",
    "  return df"
   ]
  },
  {
   "cell_type": "code",
   "execution_count": 37,
   "metadata": {},
   "outputs": [],
   "source": [
    "def show(metric, silent=False, num=100, folds=FOLDS):\n",
    "  from gezi.plot import line\n",
    "  d = df\n",
    "  # d = d[d.step > 20]\n",
    "  fig = line(d, metric, x='step', color='model', return_figs=True)[0]\n",
    "  if not silent:\n",
    "    print(f'{metric}: per fold')\n",
    "    display(fig)\n",
    "\n",
    "  # start = 0 if not silent else folds - 1\n",
    "  # for fold in range(start, folds):\n",
    "  #   print(f'{metric}: num_folds', fold + 1)\n",
    "  #   d_ = d\n",
    "  #   d = d[d.num_folds >= fold + 1]\n",
    "  #   d = d[d.fold <= fold]\n",
    "  #   if not len(d):\n",
    "  #     continue\n",
    "  #   d = d.groupby(['model'])[metric] \\\n",
    "  #     .aggregate(np.mean).reset_index()\n",
    "  #   d = d[['model', metric]].sort_values([metric], ascending=False).reset_index(drop=True)\n",
    "  #   d = d.head(num)\n",
    "  #   d[f'{metric}_str'] = ['%.4f' % x for x in d[metric].values]\n",
    "  #   display(px.bar(d, x=metric, y='model',  color='model', text=f'{metric}_str'))\n",
    "  #   d = d_"
   ]
  },
  {
   "cell_type": "code",
   "execution_count": 38,
   "metadata": {},
   "outputs": [],
   "source": [
    "v = '31'\n",
    "# type = 'tiny'\n",
    "# type = 'mid'\n",
    "# type = 'large'\n",
    "mark = 'offline'\n",
    "# root = f'../working/{mark}/{v}.*'\n",
    "root = f'../working/{mark}/{v}'"
   ]
  },
  {
   "cell_type": "code",
   "execution_count": 39,
   "metadata": {},
   "outputs": [],
   "source": [
    "try:\n",
    "  df = gen_metrics(root)\n",
    "except Exception:\n",
    "  df = gen_metrics(root, force_full=True)"
   ]
  },
  {
   "cell_type": "code",
   "execution_count": 40,
   "metadata": {},
   "outputs": [],
   "source": [
    "df = df[df.model.str.contains('ep-400')]\n",
    "df = df[df.model.str.contains('fat-14')]"
   ]
  },
  {
   "cell_type": "code",
   "execution_count": 41,
   "metadata": {},
   "outputs": [],
   "source": [
    "df = df[~df.model.str.contains('epoch')]\n",
    "df = df[~df.model.str.contains('bs-')]"
   ]
  },
  {
   "cell_type": "code",
   "execution_count": 42,
   "metadata": {},
   "outputs": [
    {
     "name": "stdout",
     "output_type": "stream",
     "text": [
      "score: per fold\n"
     ]
    },
    {
     "data": {
      "text/html": [
       "<div>                            <div id=\"770fa931-63fc-4cd8-83d1-724d3a05a556\" class=\"plotly-graph-div\" style=\"height:525px; width:100%;\"></div>            <script type=\"text/javascript\">                require([\"plotly\"], function(Plotly) {                    window.PLOTLYENV=window.PLOTLYENV || {};                                    if (document.getElementById(\"770fa931-63fc-4cd8-83d1-724d3a05a556\")) {                    Plotly.newPlot(                        \"770fa931-63fc-4cd8-83d1-724d3a05a556\",                        [{\"hoverlabel\":{\"namelength\":-1},\"hovertext\":[\"Tue Aug 29,16:13 \",\"Tue Aug 29,16:30 \",\"Tue Aug 29,16:46 \",\"Tue Aug 29,17:02 \",\"Tue Aug 29,17:18 \",\"Tue Aug 29,17:35 \",\"Tue Aug 29,17:51 \",\"Tue Aug 29,18:07 \",\"Tue Aug 29,18:24 \",\"Tue Aug 29,18:40 \",\"Tue Aug 29,18:56 \",\"Tue Aug 29,19:13 \",\"Tue Aug 29,19:29 \",\"Tue Aug 29,19:45 \",\"Tue Aug 29,20:02 \",\"Tue Aug 29,20:18 \",\"Tue Aug 29,20:35 \",\"Tue Aug 29,20:51 \",\"Tue Aug 29,21:07 \",\"Tue Aug 29,21:24 \",\"Tue Aug 29,21:40 \",\"Tue Aug 29,21:56 \",\"Tue Aug 29,22:13 \",\"Tue Aug 29,22:29 \",\"Tue Aug 29,22:45 \",\"Tue Aug 29,23:02 \",\"Tue Aug 29,23:18 \",\"Tue Aug 29,23:35 \",\"Tue Aug 29,23:51 \",\"Wed Aug 30,00:07 \",\"Wed Aug 30,00:21 \",\"Wed Aug 30,00:36 \",\"Wed Aug 30,00:51 \",\"Wed Aug 30,01:06 \",\"Wed Aug 30,01:21 \",\"Wed Aug 30,01:35 \",\"Wed Aug 30,01:50 \",\"Wed Aug 30,02:05 \",\"Wed Aug 30,02:20 \",\"Wed Aug 30,02:34 \",\"Wed Aug 30,02:49 \",\"Wed Aug 30,03:04 \",\"Wed Aug 30,03:19 \",\"Wed Aug 30,03:34 \",\"Wed Aug 30,03:49 \",\"Wed Aug 30,04:04 \",\"Wed Aug 30,04:19 \",\"Wed Aug 30,04:33 \",\"Wed Aug 30,04:48 \",\"Wed Aug 30,05:03 \",\"Wed Aug 30,05:18 \",\"Wed Aug 30,18:21 \",\"Wed Aug 30,18:53 \",\"Wed Aug 30,19:59 \",\"Wed Aug 30,20:28 \",\"Wed Aug 30,21:08 \",\"Wed Aug 30,21:30 \",\"Wed Aug 30,21:51 5m 14s\",\"Wed Aug 30,22:13 26m 50s\",\"Wed Aug 30,22:35 48m 28s\",\"Wed Aug 30,22:56 1h 10m\",\"Wed Aug 30,23:18 1h 31m\",\"Wed Aug 30,23:39 1h 53m\",\"Thu Aug 31,00:01 2h 15m\",\"Thu Aug 31,00:23 2h 36m\",\"Thu Aug 31,00:44 2h 58m\",\"Thu Aug 31,01:06 3h 19m\",\"Thu Aug 31,01:27 3h 41m\",\"Thu Aug 31,01:49 4h 2m\",\"Thu Aug 31,02:10 4h 24m\",\"Thu Aug 31,02:32 4h 45m\",\"Thu Aug 31,02:53 5h 6m\",\"Thu Aug 31,03:14 5h 28m\",\"Thu Aug 31,03:36 5h 49m\",\"Thu Aug 31,03:58 6h 11m\",\"Thu Aug 31,04:19 6h 33m\",\"Thu Aug 31,04:41 6h 54m\",\"Thu Aug 31,05:03 7h 16m\",\"Thu Aug 31,05:24 7h 38m\",\"Thu Aug 31,05:46 7h 59m\"],\"line\":{\"shape\":\"spline\",\"smoothing\":0.0},\"marker\":{\"size\":4},\"mode\":\"lines+markers\",\"name\":\"fat-14layers.cutmix_rate-0.2.ep-400\",\"x\":[1,2,3,4,5,6,7,8,9,10,11,12,13,14,15,16,17,18,19,20,21,22,23,24,25,26,27,28,29,30,31,32,33,34,35,36,37,38,39,40,41,42,43,44,45,46,47,48,49,50,51,52,53,54,55,56,57,58,59,60,61,62,63,64,65,66,67,68,69,70,71,72,73,74,75,76,77,78,79,80],\"y\":[0.576725,0.662411,0.689613,0.704536,0.719165,0.726679,0.722253,0.733487,0.739746,0.744914,0.747585,0.754273,0.75449,0.760181,0.760435,0.760663,0.766216,0.75629,0.768588,0.767665,0.772845,0.772083,0.775101,0.775433,0.776109,0.777218,0.775366,0.777013,0.779284,0.773435,0.778522,0.779885,0.781016,0.784213,0.782578,0.783985,0.781644,0.77823,0.784381,0.783056,0.785083,0.78539,0.787451,0.785875,0.785181,0.786215,0.785289,0.787078,0.787765,0.789972,0.787507,0.788583,0.789666,0.789042,0.788672,0.789856,0.790457,0.787111,0.790192,0.791854,0.793023,0.792459,0.792392,0.792306,0.793303,0.793363,0.793938,0.795339,0.792676,0.7956,0.794185,0.794797,0.797871,0.796354,0.795906,0.796242,0.796982,0.797953,0.797646,0.797956],\"type\":\"scatter\"},{\"hoverlabel\":{\"namelength\":-1},\"hovertext\":[\"Thu Aug 31,07:43 7h 40m\",\"Thu Aug 31,08:02 7h 59m\"],\"line\":{\"shape\":\"spline\",\"smoothing\":0.0},\"marker\":{\"size\":4},\"mode\":\"lines+markers\",\"name\":\"fat-14layers.cutmix_rate-0.2.ep-400.finetune\",\"x\":[1,2],\"y\":[0.802826,0.803002],\"type\":\"scatter\"},{\"hoverlabel\":{\"namelength\":-1},\"hovertext\":[\"Wed Aug 30,10:32 7h 40m\",\"Wed Aug 30,10:51 7h 59m\"],\"line\":{\"shape\":\"spline\",\"smoothing\":0.0},\"marker\":{\"size\":4},\"mode\":\"lines+markers\",\"name\":\"fat-14layers.cutmix_rate-0.1.ep-400.finetune\",\"x\":[1,2],\"y\":[0.803588,0.803969],\"type\":\"scatter\"},{\"hoverlabel\":{\"namelength\":-1},\"hovertext\":[\"Mon Aug 28,15:31 7h 41m\",\"Mon Aug 28,15:49 7h 59m\"],\"line\":{\"shape\":\"spline\",\"smoothing\":0.0},\"marker\":{\"size\":4},\"mode\":\"lines+markers\",\"name\":\"fat-14layers.ep-400.finetune\",\"x\":[1,2],\"y\":[0.802221,0.802053],\"type\":\"scatter\"},{\"hoverlabel\":{\"namelength\":-1},\"hovertext\":[\"Sun Aug 27,21:23 \",\"Sun Aug 27,21:36 \",\"Sun Aug 27,21:49 \",\"Sun Aug 27,22:02 \",\"Sun Aug 27,22:23 \",\"Sun Aug 27,22:37 \",\"Sun Aug 27,22:50 \",\"Sun Aug 27,23:03 \",\"Sun Aug 27,23:17 \",\"Sun Aug 27,23:30 \",\"Sun Aug 27,23:43 \",\"Sun Aug 27,23:57 \",\"Mon Aug 28,00:10 \",\"Mon Aug 28,00:23 \",\"Mon Aug 28,00:36 \",\"Mon Aug 28,00:50 \",\"Mon Aug 28,01:03 \",\"Mon Aug 28,01:16 \",\"Mon Aug 28,01:29 \",\"Mon Aug 28,01:43 \",\"Mon Aug 28,01:56 \",\"Mon Aug 28,02:09 \",\"Mon Aug 28,02:22 \",\"Mon Aug 28,02:35 \",\"Mon Aug 28,02:48 \",\"Mon Aug 28,03:01 \",\"Mon Aug 28,03:14 \",\"Mon Aug 28,03:27 \",\"Mon Aug 28,03:41 \",\"Mon Aug 28,03:54 \",\"Mon Aug 28,04:07 \",\"Mon Aug 28,04:21 \",\"Mon Aug 28,04:34 \",\"Mon Aug 28,04:48 \",\"Mon Aug 28,05:01 \",\"Mon Aug 28,05:15 \",\"Mon Aug 28,05:28 \",\"Mon Aug 28,05:42 \",\"Mon Aug 28,05:55 \",\"Mon Aug 28,06:08 \",\"Mon Aug 28,06:22 \",\"Mon Aug 28,06:35 \",\"Mon Aug 28,06:49 \",\"Mon Aug 28,07:02 8m 10s\",\"Mon Aug 28,07:16 21m 36s\",\"Mon Aug 28,07:29 34m 59s\",\"Mon Aug 28,07:42 48m 29s\",\"Mon Aug 28,07:56 1h 1m\",\"Mon Aug 28,08:09 1h 14m\",\"Mon Aug 28,08:21 1h 27m\",\"Mon Aug 28,08:34 1h 39m\",\"Mon Aug 28,08:46 1h 52m\",\"Mon Aug 28,08:59 2h 5m\",\"Mon Aug 28,09:12 2h 18m\",\"Mon Aug 28,09:25 2h 31m\",\"Mon Aug 28,09:38 2h 44m\",\"Mon Aug 28,09:51 2h 57m\",\"Mon Aug 28,10:04 3h 10m\",\"Mon Aug 28,10:18 3h 23m\",\"Mon Aug 28,10:31 3h 36m\",\"Mon Aug 28,10:44 3h 49m\",\"Mon Aug 28,10:57 4h 2m\",\"Mon Aug 28,11:10 4h 16m\",\"Mon Aug 28,11:23 4h 29m\",\"Mon Aug 28,11:36 4h 42m\",\"Mon Aug 28,11:50 4h 55m\",\"Mon Aug 28,12:03 5h 8m\",\"Mon Aug 28,12:16 5h 22m\",\"Mon Aug 28,12:29 5h 35m\",\"Mon Aug 28,12:42 5h 48m\",\"Mon Aug 28,12:56 6h 1m\",\"Mon Aug 28,13:09 6h 14m\",\"Mon Aug 28,13:22 6h 28m\",\"Mon Aug 28,13:35 6h 41m\",\"Mon Aug 28,13:49 6h 54m\",\"Mon Aug 28,14:02 7h 7m\",\"Mon Aug 28,14:15 7h 20m\",\"Mon Aug 28,14:28 7h 34m\",\"Mon Aug 28,14:41 7h 47m\",\"Mon Aug 28,14:54 7h 59m\"],\"line\":{\"shape\":\"spline\",\"smoothing\":0.0},\"marker\":{\"size\":4},\"mode\":\"lines+markers\",\"name\":\"fat-14layers.ep-400\",\"x\":[1,2,3,4,5,6,7,8,9,10,11,12,13,14,15,16,17,18,19,20,21,22,23,24,25,26,27,28,29,30,31,32,33,34,35,36,37,38,39,40,41,42,43,44,45,46,47,48,49,50,51,52,53,54,55,56,57,58,59,60,61,62,63,64,65,66,67,68,69,70,71,72,73,74,75,76,77,78,79,80],\"y\":[0.593056,0.668815,0.697922,0.712327,0.726417,0.731201,0.733782,0.740127,0.747461,0.754016,0.753653,0.759662,0.758056,0.762979,0.766179,0.765884,0.765921,0.770183,0.772532,0.77416,0.774847,0.774612,0.773006,0.777842,0.773973,0.774365,0.779246,0.779646,0.783085,0.776501,0.781315,0.780606,0.779205,0.780833,0.777121,0.781177,0.784956,0.784202,0.78676,0.784975,0.782391,0.786966,0.785334,0.78868,0.785733,0.788844,0.788045,0.789285,0.789953,0.788049,0.78809,0.790192,0.789494,0.792373,0.789767,0.793288,0.789875,0.791171,0.792859,0.790958,0.791533,0.789225,0.79163,0.788422,0.788299,0.792717,0.793042,0.794435,0.793016,0.79569,0.794211,0.793983,0.794565,0.793688,0.792272,0.793146,0.793916,0.794924,0.794644,0.795854],\"type\":\"scatter\"},{\"hoverlabel\":{\"namelength\":-1},\"hovertext\":[\"Wed Aug 30,10:30 7h 42m\",\"Wed Aug 30,10:48 7h 59m\"],\"line\":{\"shape\":\"spline\",\"smoothing\":0.0},\"marker\":{\"size\":4},\"mode\":\"lines+markers\",\"name\":\"fat-14layers.cutmix_rate-0.ep-400.finetune\",\"x\":[1,2],\"y\":[0.803648,0.804122],\"type\":\"scatter\"},{\"hoverlabel\":{\"namelength\":-1},\"hovertext\":[\"Tue Aug 29,13:07 \",\"Tue Aug 29,13:31 \",\"Tue Aug 29,13:47 \",\"Tue Aug 29,14:04 \",\"Tue Aug 29,14:21 \",\"Tue Aug 29,14:37 \",\"Tue Aug 29,14:54 \",\"Tue Aug 29,15:10 \",\"Tue Aug 29,15:27 \",\"Tue Aug 29,15:43 \",\"Tue Aug 29,16:00 \",\"Tue Aug 29,16:16 \",\"Tue Aug 29,16:33 \",\"Tue Aug 29,16:50 \",\"Tue Aug 29,17:06 \",\"Tue Aug 29,17:23 \",\"Tue Aug 29,17:39 \",\"Tue Aug 29,17:56 \",\"Tue Aug 29,18:13 \",\"Tue Aug 29,18:29 \",\"Tue Aug 29,18:46 \",\"Tue Aug 29,19:03 \",\"Tue Aug 29,19:19 \",\"Tue Aug 29,19:36 \",\"Tue Aug 29,19:52 \",\"Tue Aug 29,20:09 \",\"Tue Aug 29,20:25 \",\"Tue Aug 29,20:42 \",\"Tue Aug 29,20:59 \",\"Tue Aug 29,21:15 \",\"Tue Aug 29,21:32 \",\"Tue Aug 29,21:48 \",\"Tue Aug 29,22:05 \",\"Tue Aug 29,22:22 \",\"Tue Aug 29,22:38 \",\"Tue Aug 29,22:55 \",\"Tue Aug 29,23:12 \",\"Tue Aug 29,23:28 \",\"Tue Aug 29,23:45 \",\"Wed Aug 30,00:01 \",\"Wed Aug 30,00:16 \",\"Wed Aug 30,00:31 \",\"Wed Aug 30,00:46 \",\"Wed Aug 30,01:01 \",\"Wed Aug 30,01:16 \",\"Wed Aug 30,01:31 \",\"Wed Aug 30,01:46 \",\"Wed Aug 30,02:01 3m 25s\",\"Wed Aug 30,02:16 18m 15s\",\"Wed Aug 30,02:31 33m 6s\",\"Wed Aug 30,02:46 47m 55s\",\"Wed Aug 30,03:01 1h 2m\",\"Wed Aug 30,03:15 1h 17m\",\"Wed Aug 30,03:30 1h 32m\",\"Wed Aug 30,03:45 1h 47m\",\"Wed Aug 30,04:00 2h 1m\",\"Wed Aug 30,04:14 2h 16m\",\"Wed Aug 30,04:29 2h 31m\",\"Wed Aug 30,04:44 2h 46m\",\"Wed Aug 30,04:59 3h 1m\",\"Wed Aug 30,05:14 3h 16m\",\"Wed Aug 30,05:29 3h 31m\",\"Wed Aug 30,05:44 3h 46m\",\"Wed Aug 30,05:59 4h 1m\",\"Wed Aug 30,06:14 4h 16m\",\"Wed Aug 30,06:29 4h 31m\",\"Wed Aug 30,06:44 4h 46m\",\"Wed Aug 30,06:59 5h 1m\",\"Wed Aug 30,07:14 5h 16m\",\"Wed Aug 30,07:29 5h 31m\",\"Wed Aug 30,07:44 5h 46m\",\"Wed Aug 30,07:59 6h 1m\",\"Wed Aug 30,08:14 6h 15m\",\"Wed Aug 30,08:29 6h 30m\",\"Wed Aug 30,08:44 6h 45m\",\"Wed Aug 30,08:59 7h 48s\",\"Wed Aug 30,09:13 7h 15m\",\"Wed Aug 30,09:28 7h 30m\",\"Wed Aug 30,09:43 7h 45m\",\"Wed Aug 30,09:58 7h 59m\"],\"line\":{\"shape\":\"spline\",\"smoothing\":0.0},\"marker\":{\"size\":4},\"mode\":\"lines+markers\",\"name\":\"fat-14layers.cutmix_rate-0.1.ep-400\",\"x\":[1,2,3,4,5,6,7,8,9,10,11,12,13,14,15,16,17,18,19,20,21,22,23,24,25,26,27,28,29,30,31,32,33,34,35,36,37,38,39,40,41,42,43,44,45,46,47,48,49,50,51,52,53,54,55,56,57,58,59,60,61,62,63,64,65,66,67,68,69,70,71,72,73,74,75,76,77,78,79,80],\"y\":[0.581983,0.66768,0.691563,0.708652,0.714175,0.720569,0.731787,0.732968,0.744619,0.74909,0.755013,0.757963,0.759991,0.764446,0.766201,0.768323,0.768677,0.772293,0.770171,0.773185,0.775235,0.776684,0.774757,0.776755,0.776333,0.780206,0.782335,0.778996,0.780456,0.781046,0.784561,0.781151,0.781931,0.783944,0.787268,0.786405,0.783675,0.787873,0.787104,0.787959,0.789767,0.786532,0.789053,0.790293,0.790457,0.790405,0.789244,0.793654,0.790838,0.793811,0.792235,0.793281,0.788698,0.792728,0.792855,0.795017,0.792993,0.796145,0.795395,0.793206,0.793367,0.793707,0.79371,0.794872,0.794588,0.794106,0.795312,0.796773,0.794663,0.797288,0.795738,0.796653,0.795899,0.797307,0.797344,0.79563,0.796478,0.796911,0.797721,0.797191],\"type\":\"scatter\"}],                        {\"hovermode\":\"x\",\"title\":{\"text\":\"score\"},\"template\":{\"data\":{\"histogram2dcontour\":[{\"type\":\"histogram2dcontour\",\"colorbar\":{\"outlinewidth\":0,\"ticks\":\"\"},\"colorscale\":[[0.0,\"#0d0887\"],[0.1111111111111111,\"#46039f\"],[0.2222222222222222,\"#7201a8\"],[0.3333333333333333,\"#9c179e\"],[0.4444444444444444,\"#bd3786\"],[0.5555555555555556,\"#d8576b\"],[0.6666666666666666,\"#ed7953\"],[0.7777777777777778,\"#fb9f3a\"],[0.8888888888888888,\"#fdca26\"],[1.0,\"#f0f921\"]]}],\"choropleth\":[{\"type\":\"choropleth\",\"colorbar\":{\"outlinewidth\":0,\"ticks\":\"\"}}],\"histogram2d\":[{\"type\":\"histogram2d\",\"colorbar\":{\"outlinewidth\":0,\"ticks\":\"\"},\"colorscale\":[[0.0,\"#0d0887\"],[0.1111111111111111,\"#46039f\"],[0.2222222222222222,\"#7201a8\"],[0.3333333333333333,\"#9c179e\"],[0.4444444444444444,\"#bd3786\"],[0.5555555555555556,\"#d8576b\"],[0.6666666666666666,\"#ed7953\"],[0.7777777777777778,\"#fb9f3a\"],[0.8888888888888888,\"#fdca26\"],[1.0,\"#f0f921\"]]}],\"heatmap\":[{\"type\":\"heatmap\",\"colorbar\":{\"outlinewidth\":0,\"ticks\":\"\"},\"colorscale\":[[0.0,\"#0d0887\"],[0.1111111111111111,\"#46039f\"],[0.2222222222222222,\"#7201a8\"],[0.3333333333333333,\"#9c179e\"],[0.4444444444444444,\"#bd3786\"],[0.5555555555555556,\"#d8576b\"],[0.6666666666666666,\"#ed7953\"],[0.7777777777777778,\"#fb9f3a\"],[0.8888888888888888,\"#fdca26\"],[1.0,\"#f0f921\"]]}],\"heatmapgl\":[{\"type\":\"heatmapgl\",\"colorbar\":{\"outlinewidth\":0,\"ticks\":\"\"},\"colorscale\":[[0.0,\"#0d0887\"],[0.1111111111111111,\"#46039f\"],[0.2222222222222222,\"#7201a8\"],[0.3333333333333333,\"#9c179e\"],[0.4444444444444444,\"#bd3786\"],[0.5555555555555556,\"#d8576b\"],[0.6666666666666666,\"#ed7953\"],[0.7777777777777778,\"#fb9f3a\"],[0.8888888888888888,\"#fdca26\"],[1.0,\"#f0f921\"]]}],\"contourcarpet\":[{\"type\":\"contourcarpet\",\"colorbar\":{\"outlinewidth\":0,\"ticks\":\"\"}}],\"contour\":[{\"type\":\"contour\",\"colorbar\":{\"outlinewidth\":0,\"ticks\":\"\"},\"colorscale\":[[0.0,\"#0d0887\"],[0.1111111111111111,\"#46039f\"],[0.2222222222222222,\"#7201a8\"],[0.3333333333333333,\"#9c179e\"],[0.4444444444444444,\"#bd3786\"],[0.5555555555555556,\"#d8576b\"],[0.6666666666666666,\"#ed7953\"],[0.7777777777777778,\"#fb9f3a\"],[0.8888888888888888,\"#fdca26\"],[1.0,\"#f0f921\"]]}],\"surface\":[{\"type\":\"surface\",\"colorbar\":{\"outlinewidth\":0,\"ticks\":\"\"},\"colorscale\":[[0.0,\"#0d0887\"],[0.1111111111111111,\"#46039f\"],[0.2222222222222222,\"#7201a8\"],[0.3333333333333333,\"#9c179e\"],[0.4444444444444444,\"#bd3786\"],[0.5555555555555556,\"#d8576b\"],[0.6666666666666666,\"#ed7953\"],[0.7777777777777778,\"#fb9f3a\"],[0.8888888888888888,\"#fdca26\"],[1.0,\"#f0f921\"]]}],\"mesh3d\":[{\"type\":\"mesh3d\",\"colorbar\":{\"outlinewidth\":0,\"ticks\":\"\"}}],\"scatter\":[{\"fillpattern\":{\"fillmode\":\"overlay\",\"size\":10,\"solidity\":0.2},\"type\":\"scatter\"}],\"parcoords\":[{\"type\":\"parcoords\",\"line\":{\"colorbar\":{\"outlinewidth\":0,\"ticks\":\"\"}}}],\"scatterpolargl\":[{\"type\":\"scatterpolargl\",\"marker\":{\"colorbar\":{\"outlinewidth\":0,\"ticks\":\"\"}}}],\"bar\":[{\"error_x\":{\"color\":\"#2a3f5f\"},\"error_y\":{\"color\":\"#2a3f5f\"},\"marker\":{\"line\":{\"color\":\"#E5ECF6\",\"width\":0.5},\"pattern\":{\"fillmode\":\"overlay\",\"size\":10,\"solidity\":0.2}},\"type\":\"bar\"}],\"scattergeo\":[{\"type\":\"scattergeo\",\"marker\":{\"colorbar\":{\"outlinewidth\":0,\"ticks\":\"\"}}}],\"scatterpolar\":[{\"type\":\"scatterpolar\",\"marker\":{\"colorbar\":{\"outlinewidth\":0,\"ticks\":\"\"}}}],\"histogram\":[{\"marker\":{\"pattern\":{\"fillmode\":\"overlay\",\"size\":10,\"solidity\":0.2}},\"type\":\"histogram\"}],\"scattergl\":[{\"type\":\"scattergl\",\"marker\":{\"colorbar\":{\"outlinewidth\":0,\"ticks\":\"\"}}}],\"scatter3d\":[{\"type\":\"scatter3d\",\"line\":{\"colorbar\":{\"outlinewidth\":0,\"ticks\":\"\"}},\"marker\":{\"colorbar\":{\"outlinewidth\":0,\"ticks\":\"\"}}}],\"scattermapbox\":[{\"type\":\"scattermapbox\",\"marker\":{\"colorbar\":{\"outlinewidth\":0,\"ticks\":\"\"}}}],\"scatterternary\":[{\"type\":\"scatterternary\",\"marker\":{\"colorbar\":{\"outlinewidth\":0,\"ticks\":\"\"}}}],\"scattercarpet\":[{\"type\":\"scattercarpet\",\"marker\":{\"colorbar\":{\"outlinewidth\":0,\"ticks\":\"\"}}}],\"carpet\":[{\"aaxis\":{\"endlinecolor\":\"#2a3f5f\",\"gridcolor\":\"white\",\"linecolor\":\"white\",\"minorgridcolor\":\"white\",\"startlinecolor\":\"#2a3f5f\"},\"baxis\":{\"endlinecolor\":\"#2a3f5f\",\"gridcolor\":\"white\",\"linecolor\":\"white\",\"minorgridcolor\":\"white\",\"startlinecolor\":\"#2a3f5f\"},\"type\":\"carpet\"}],\"table\":[{\"cells\":{\"fill\":{\"color\":\"#EBF0F8\"},\"line\":{\"color\":\"white\"}},\"header\":{\"fill\":{\"color\":\"#C8D4E3\"},\"line\":{\"color\":\"white\"}},\"type\":\"table\"}],\"barpolar\":[{\"marker\":{\"line\":{\"color\":\"#E5ECF6\",\"width\":0.5},\"pattern\":{\"fillmode\":\"overlay\",\"size\":10,\"solidity\":0.2}},\"type\":\"barpolar\"}],\"pie\":[{\"automargin\":true,\"type\":\"pie\"}]},\"layout\":{\"autotypenumbers\":\"strict\",\"colorway\":[\"#636efa\",\"#EF553B\",\"#00cc96\",\"#ab63fa\",\"#FFA15A\",\"#19d3f3\",\"#FF6692\",\"#B6E880\",\"#FF97FF\",\"#FECB52\"],\"font\":{\"color\":\"#2a3f5f\"},\"hovermode\":\"closest\",\"hoverlabel\":{\"align\":\"left\"},\"paper_bgcolor\":\"white\",\"plot_bgcolor\":\"#E5ECF6\",\"polar\":{\"bgcolor\":\"#E5ECF6\",\"angularaxis\":{\"gridcolor\":\"white\",\"linecolor\":\"white\",\"ticks\":\"\"},\"radialaxis\":{\"gridcolor\":\"white\",\"linecolor\":\"white\",\"ticks\":\"\"}},\"ternary\":{\"bgcolor\":\"#E5ECF6\",\"aaxis\":{\"gridcolor\":\"white\",\"linecolor\":\"white\",\"ticks\":\"\"},\"baxis\":{\"gridcolor\":\"white\",\"linecolor\":\"white\",\"ticks\":\"\"},\"caxis\":{\"gridcolor\":\"white\",\"linecolor\":\"white\",\"ticks\":\"\"}},\"coloraxis\":{\"colorbar\":{\"outlinewidth\":0,\"ticks\":\"\"}},\"colorscale\":{\"sequential\":[[0.0,\"#0d0887\"],[0.1111111111111111,\"#46039f\"],[0.2222222222222222,\"#7201a8\"],[0.3333333333333333,\"#9c179e\"],[0.4444444444444444,\"#bd3786\"],[0.5555555555555556,\"#d8576b\"],[0.6666666666666666,\"#ed7953\"],[0.7777777777777778,\"#fb9f3a\"],[0.8888888888888888,\"#fdca26\"],[1.0,\"#f0f921\"]],\"sequentialminus\":[[0.0,\"#0d0887\"],[0.1111111111111111,\"#46039f\"],[0.2222222222222222,\"#7201a8\"],[0.3333333333333333,\"#9c179e\"],[0.4444444444444444,\"#bd3786\"],[0.5555555555555556,\"#d8576b\"],[0.6666666666666666,\"#ed7953\"],[0.7777777777777778,\"#fb9f3a\"],[0.8888888888888888,\"#fdca26\"],[1.0,\"#f0f921\"]],\"diverging\":[[0,\"#8e0152\"],[0.1,\"#c51b7d\"],[0.2,\"#de77ae\"],[0.3,\"#f1b6da\"],[0.4,\"#fde0ef\"],[0.5,\"#f7f7f7\"],[0.6,\"#e6f5d0\"],[0.7,\"#b8e186\"],[0.8,\"#7fbc41\"],[0.9,\"#4d9221\"],[1,\"#276419\"]]},\"xaxis\":{\"gridcolor\":\"white\",\"linecolor\":\"white\",\"ticks\":\"\",\"title\":{\"standoff\":15},\"zerolinecolor\":\"white\",\"automargin\":true,\"zerolinewidth\":2},\"yaxis\":{\"gridcolor\":\"white\",\"linecolor\":\"white\",\"ticks\":\"\",\"title\":{\"standoff\":15},\"zerolinecolor\":\"white\",\"automargin\":true,\"zerolinewidth\":2},\"scene\":{\"xaxis\":{\"backgroundcolor\":\"#E5ECF6\",\"gridcolor\":\"white\",\"linecolor\":\"white\",\"showbackground\":true,\"ticks\":\"\",\"zerolinecolor\":\"white\",\"gridwidth\":2},\"yaxis\":{\"backgroundcolor\":\"#E5ECF6\",\"gridcolor\":\"white\",\"linecolor\":\"white\",\"showbackground\":true,\"ticks\":\"\",\"zerolinecolor\":\"white\",\"gridwidth\":2},\"zaxis\":{\"backgroundcolor\":\"#E5ECF6\",\"gridcolor\":\"white\",\"linecolor\":\"white\",\"showbackground\":true,\"ticks\":\"\",\"zerolinecolor\":\"white\",\"gridwidth\":2}},\"shapedefaults\":{\"line\":{\"color\":\"#2a3f5f\"}},\"annotationdefaults\":{\"arrowcolor\":\"#2a3f5f\",\"arrowhead\":0,\"arrowwidth\":1},\"geo\":{\"bgcolor\":\"white\",\"landcolor\":\"#E5ECF6\",\"subunitcolor\":\"white\",\"showland\":true,\"showlakes\":true,\"lakecolor\":\"white\"},\"title\":{\"x\":0.05},\"mapbox\":{\"style\":\"light\"}}}},                        {\"responsive\": true}                    ).then(function(){\n",
       "                            \n",
       "var gd = document.getElementById('770fa931-63fc-4cd8-83d1-724d3a05a556');\n",
       "var x = new MutationObserver(function (mutations, observer) {{\n",
       "        var display = window.getComputedStyle(gd).display;\n",
       "        if (!display || display === 'none') {{\n",
       "            console.log([gd, 'removed!']);\n",
       "            Plotly.purge(gd);\n",
       "            observer.disconnect();\n",
       "        }}\n",
       "}});\n",
       "\n",
       "// Listen for the removal of the full notebook cells\n",
       "var notebookContainer = gd.closest('#notebook-container');\n",
       "if (notebookContainer) {{\n",
       "    x.observe(notebookContainer, {childList: true});\n",
       "}}\n",
       "\n",
       "// Listen for the clearing of the current output cell\n",
       "var outputEl = gd.closest('.output');\n",
       "if (outputEl) {{\n",
       "    x.observe(outputEl, {childList: true});\n",
       "}}\n",
       "\n",
       "                        })                };                });            </script>        </div>"
      ]
     },
     "metadata": {},
     "output_type": "display_data"
    }
   ],
   "source": [
    "show('score')"
   ]
  },
  {
   "cell_type": "code",
   "execution_count": null,
   "metadata": {},
   "outputs": [],
   "source": []
  },
  {
   "cell_type": "code",
   "execution_count": null,
   "metadata": {},
   "outputs": [],
   "source": []
  },
  {
   "cell_type": "code",
   "execution_count": null,
   "metadata": {},
   "outputs": [],
   "source": []
  },
  {
   "cell_type": "code",
   "execution_count": null,
   "metadata": {},
   "outputs": [],
   "source": []
  },
  {
   "cell_type": "code",
   "execution_count": null,
   "metadata": {},
   "outputs": [],
   "source": []
  }
 ],
 "metadata": {
  "kernelspec": {
   "display_name": "base",
   "language": "python",
   "name": "python3"
  },
  "language_info": {
   "codemirror_mode": {
    "name": "ipython",
    "version": 3
   },
   "file_extension": ".py",
   "mimetype": "text/x-python",
   "name": "python",
   "nbconvert_exporter": "python",
   "pygments_lexer": "ipython3",
   "version": "3.10.10"
  },
  "orig_nbformat": 4
 },
 "nbformat": 4,
 "nbformat_minor": 2
}
