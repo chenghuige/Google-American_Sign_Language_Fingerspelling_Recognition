{
 "cells": [
  {
   "cell_type": "code",
   "execution_count": 1,
   "metadata": {},
   "outputs": [
    {
     "name": "stdout",
     "output_type": "stream",
     "text": [
      "INFO: Pandarallel will run on 16 workers.\n",
      "INFO: Pandarallel will use Memory file system to transfer data between the main process and workers.\n"
     ]
    },
    {
     "name": "stderr",
     "output_type": "stream",
     "text": [
      "\u001b[34m\u001b[1mwandb\u001b[0m: \u001b[32m\u001b[41mERROR\u001b[0m Unable to patch Tensorflow/Keras\n",
      "exception while trying to patch_tf_keras\n",
      "Traceback (most recent call last):\n",
      "  File \"/home/gezi/miniconda3/lib/python3.10/site-packages/wandb/integration/keras/keras.py\", line 86, in patch_tf_keras\n",
      "    from keras.engine import training\n",
      "ModuleNotFoundError: No module named 'keras.engine'\n",
      "\u001b[34m\u001b[1mwandb\u001b[0m: \u001b[32m\u001b[41mERROR\u001b[0m Unable to patch Tensorflow/Keras\n",
      "exception while trying to patch_tf_keras\n",
      "Traceback (most recent call last):\n",
      "  File \"/home/gezi/miniconda3/lib/python3.10/site-packages/wandb/integration/keras/keras.py\", line 86, in patch_tf_keras\n",
      "    from keras.engine import training\n",
      "ModuleNotFoundError: No module named 'keras.engine'\n",
      "\u001b[34m\u001b[1mwandb\u001b[0m: \u001b[32m\u001b[41mERROR\u001b[0m Unable to patch Tensorflow/Keras\n",
      "exception while trying to patch_tf_keras\n",
      "Traceback (most recent call last):\n",
      "  File \"/home/gezi/miniconda3/lib/python3.10/site-packages/wandb/integration/keras/keras.py\", line 86, in patch_tf_keras\n",
      "    from keras.engine import training\n",
      "ModuleNotFoundError: No module named 'keras.engine'\n",
      "[08/28/23 20:51:59] config.py:247 in <module>- len(LIP): 40\n",
      "[08/28/23 20:51:59] config.py:251 in <module>\n",
      "                    len(LLIP): 18\n",
      "                    len(RLIP): 18\n",
      "                    len(MID_LIP): 4\n",
      "[08/28/23 20:52:00] config.py:308 in <module>- N_COLS: 384\n",
      "[08/28/23 20:52:00] config.py:314 in <module>- N_CHARS: 59\n",
      "[08/28/23 20:52:00] config.py:319 in <module>\n",
      "                    PAD_IDX: 0\n",
      "                    SOS_IDX: 0\n",
      "                    EOS_IDX: 60\n",
      "[08/28/23 20:52:00] config.py:353 in <module>- VOCAB_SIZE: 61\n",
      "[08/28/23 20:52:00] config.py:354 in <module>- len(IDX2CHAR): 61\n"
     ]
    }
   ],
   "source": [
    "import sys\n",
    "sys.path.append('/work/pikachu/utils/')\n",
    "sys.path.append('/work/pikachu/third/')\n",
    "sys.path.append('/work/pikachu/projects/kaggle/aslfr/third/NeMo')\n",
    "sys.path.append('..')\n",
    "from gezi.common import *\n",
    "import gezi\n",
    "from src.config import *\n",
    "from src.vis import *\n",
    "gezi.init_flags()"
   ]
  },
  {
   "cell_type": "code",
   "execution_count": 2,
   "metadata": {},
   "outputs": [
    {
     "data": {
      "text/plain": [
       "tensor([[0.5000],\n",
       "        [0.5000],\n",
       "        [0.5000],\n",
       "        [0.5000]])"
      ]
     },
     "execution_count": 2,
     "metadata": {},
     "output_type": "execute_result"
    }
   ],
   "source": [
    "x = nn.Embedding(4, 1)\n",
    "x.weight.data.fill_(0.5)"
   ]
  },
  {
   "cell_type": "code",
   "execution_count": 8,
   "metadata": {},
   "outputs": [
    {
     "data": {
      "text/plain": [
       "tensor([0.5000], grad_fn=<EmbeddingBackward0>)"
      ]
     },
     "execution_count": 8,
     "metadata": {},
     "output_type": "execute_result"
    }
   ],
   "source": [
    "x(torch.range(0,3,dtype=torch.long)[0])"
   ]
  },
  {
   "cell_type": "code",
   "execution_count": 2,
   "metadata": {},
   "outputs": [
    {
     "data": {
      "text/plain": [
       "<tf.Tensor: shape=(10,), dtype=int32, numpy=array([0, 1, 2, 3, 4, 5, 6, 7, 8, 9], dtype=int32)>"
      ]
     },
     "execution_count": 2,
     "metadata": {},
     "output_type": "execute_result"
    }
   ],
   "source": [
    "tf.range(10)"
   ]
  },
  {
   "cell_type": "code",
   "execution_count": 3,
   "metadata": {},
   "outputs": [
    {
     "data": {
      "text/plain": [
       "<tf.Tensor: shape=(10,), dtype=int32, numpy=array([3, 5, 0, 6, 9, 2, 8, 7, 1, 4], dtype=int32)>"
      ]
     },
     "execution_count": 3,
     "metadata": {},
     "output_type": "execute_result"
    }
   ],
   "source": [
    "tf.random.shuffle(tf.range(10))"
   ]
  },
  {
   "cell_type": "code",
   "execution_count": 2,
   "metadata": {},
   "outputs": [],
   "source": [
    "from einops import rearrange"
   ]
  },
  {
   "cell_type": "code",
   "execution_count": 3,
   "metadata": {},
   "outputs": [
    {
     "data": {
      "text/plain": [
       "tensor([[ 0, -1, -2, -3, -4],\n",
       "        [ 1,  0, -1, -2, -3],\n",
       "        [ 2,  1,  0, -1, -2],\n",
       "        [ 3,  2,  1,  0, -1],\n",
       "        [ 4,  3,  2,  1,  0]])"
      ]
     },
     "execution_count": 3,
     "metadata": {},
     "output_type": "execute_result"
    }
   ],
   "source": [
    "seq = torch.arange(5)\n",
    "dist = rearrange(seq, 'i -> i ()') - rearrange(seq, 'j -> () j')\n",
    "dist"
   ]
  },
  {
   "cell_type": "code",
   "execution_count": 4,
   "metadata": {},
   "outputs": [
    {
     "data": {
      "text/plain": [
       "tensor([[0],\n",
       "        [1],\n",
       "        [2],\n",
       "        [3],\n",
       "        [4]])"
      ]
     },
     "execution_count": 4,
     "metadata": {},
     "output_type": "execute_result"
    }
   ],
   "source": [
    "rearrange(seq, 'i -> i ()')"
   ]
  },
  {
   "cell_type": "code",
   "execution_count": 5,
   "metadata": {},
   "outputs": [
    {
     "data": {
      "text/plain": [
       "torch.Size([5, 1])"
      ]
     },
     "execution_count": 5,
     "metadata": {},
     "output_type": "execute_result"
    }
   ],
   "source": [
    "rearrange(seq, 'i -> i ()').shape"
   ]
  },
  {
   "cell_type": "code",
   "execution_count": 6,
   "metadata": {},
   "outputs": [
    {
     "data": {
      "text/plain": [
       "tensor([0, 1, 2, 3, 4])"
      ]
     },
     "execution_count": 6,
     "metadata": {},
     "output_type": "execute_result"
    }
   ],
   "source": [
    "seq"
   ]
  },
  {
   "cell_type": "code",
   "execution_count": null,
   "metadata": {},
   "outputs": [],
   "source": [
    "rearrange(seq, 'j -> () j')"
   ]
  },
  {
   "cell_type": "code",
   "execution_count": null,
   "metadata": {},
   "outputs": [],
   "source": [
    "seq.unsqueeze(-1) - seq[None]"
   ]
  },
  {
   "cell_type": "code",
   "execution_count": null,
   "metadata": {},
   "outputs": [],
   "source": [
    "rel_pos_emb = nn.Embedding(2 * 16 + 1, 64)\n",
    "rel_pos_emb"
   ]
  },
  {
   "cell_type": "code",
   "execution_count": 53,
   "metadata": {},
   "outputs": [],
   "source": [
    "#einsum('b h n d, n r d -> b h n r', q, rel_pos_emb) * self.scale\n",
    "x = torch.randn(2, 3, 4, 5)\n",
    "y = torch.randn(4, 6, 5)"
   ]
  },
  {
   "cell_type": "code",
   "execution_count": 34,
   "metadata": {},
   "outputs": [],
   "source": [
    "# n b h d, n, d, r -> n b h r"
   ]
  },
  {
   "cell_type": "code",
   "execution_count": 55,
   "metadata": {},
   "outputs": [
    {
     "data": {
      "text/plain": [
       "torch.Size([4, 2, 3, 5])"
      ]
     },
     "execution_count": 55,
     "metadata": {},
     "output_type": "execute_result"
    }
   ],
   "source": [
    "x2 = x.permute(2, 0, 1, 3)\n",
    "x2.shape"
   ]
  },
  {
   "cell_type": "code",
   "execution_count": 56,
   "metadata": {},
   "outputs": [
    {
     "data": {
      "text/plain": [
       "(2, 3, 4, 5, 6)"
      ]
     },
     "execution_count": 56,
     "metadata": {},
     "output_type": "execute_result"
    }
   ],
   "source": [
    "b, h, n, d = x.shape[0], x.shape[1], x.shape[2], x.shape[3]\n",
    "r = y.shape[1]\n",
    "b, h, n, d ,r"
   ]
  },
  {
   "cell_type": "code",
   "execution_count": 57,
   "metadata": {},
   "outputs": [
    {
     "data": {
      "text/plain": [
       "torch.Size([4, 6, 5])"
      ]
     },
     "execution_count": 57,
     "metadata": {},
     "output_type": "execute_result"
    }
   ],
   "source": [
    "x3 = x2.view(n, -1, d)\n",
    "x3.shape # n, b*h, d"
   ]
  },
  {
   "cell_type": "code",
   "execution_count": 58,
   "metadata": {},
   "outputs": [
    {
     "data": {
      "text/plain": [
       "torch.Size([4, 6, 6])"
      ]
     },
     "execution_count": 58,
     "metadata": {},
     "output_type": "execute_result"
    }
   ],
   "source": [
    "#n, b*h, d  | n, d, r -> n, b*h, r\n",
    "z = torch.matmul(x3, y.permute(0,2,1))\n",
    "z.shape"
   ]
  },
  {
   "cell_type": "code",
   "execution_count": 59,
   "metadata": {},
   "outputs": [
    {
     "data": {
      "text/plain": [
       "torch.Size([4, 2, 3, 6])"
      ]
     },
     "execution_count": 59,
     "metadata": {},
     "output_type": "execute_result"
    }
   ],
   "source": [
    "z.view(n, b, h, r).shape"
   ]
  },
  {
   "cell_type": "code",
   "execution_count": 60,
   "metadata": {},
   "outputs": [
    {
     "data": {
      "text/plain": [
       "torch.Size([2, 3, 4, 6])"
      ]
     },
     "execution_count": 60,
     "metadata": {},
     "output_type": "execute_result"
    }
   ],
   "source": [
    "z.view(n, b, h, r).permute(1,2,0,3).shape"
   ]
  },
  {
   "cell_type": "code",
   "execution_count": 61,
   "metadata": {},
   "outputs": [
    {
     "data": {
      "text/plain": [
       "tensor([[[[ 3.6069, -0.1010,  4.5907,  1.4409, -0.3374, -0.4687],\n",
       "          [ 0.7922, -0.5243,  0.4649, -4.5525, -0.3684, -0.0769],\n",
       "          [-5.0455, -3.7415,  0.8662, -0.7653, -0.8775,  2.6790],\n",
       "          [-0.3818, -0.5261,  0.9918,  0.1970, -1.3475,  0.5043]],\n",
       "\n",
       "         [[ 5.8555,  1.6040,  1.4877,  1.4559, -3.0550,  1.3703],\n",
       "          [ 0.5775,  1.3960, -0.1979, -0.6887,  0.4227,  1.3436],\n",
       "          [-2.5166, -2.9616,  2.5767, -1.8824,  1.7688, -1.6250],\n",
       "          [ 2.5197, -5.2587,  0.8104,  2.0734, -2.4606, -3.8890]],\n",
       "\n",
       "         [[-3.3692, -0.8103, -2.8108,  0.4985, -0.7990, -0.4578],\n",
       "          [-0.0634,  1.5177, -1.1966,  5.0308,  0.4006,  3.1809],\n",
       "          [-1.0388,  0.0606,  0.9913,  0.4082, -1.4214,  0.5557],\n",
       "          [ 0.0834, -0.0322, -0.3532, -1.0801,  2.2203,  0.4495]]],\n",
       "\n",
       "\n",
       "        [[[ 1.2568,  1.2199,  2.2575, -4.1517, -0.0655, -1.0283],\n",
       "          [ 2.6378,  1.2028,  0.0591,  1.5880, -0.3620, -2.1721],\n",
       "          [ 1.7675,  3.6259,  0.0406,  2.7281, -1.4146,  0.0640],\n",
       "          [ 1.3411, -1.7246, -1.7159, -1.2752,  0.5907, -1.8498]],\n",
       "\n",
       "         [[-2.5056, -0.7127, -1.1496, -3.0544, -0.5452, -2.3631],\n",
       "          [ 2.1168,  3.8618,  0.0479,  2.1633,  0.4346, -1.4488],\n",
       "          [-0.4612, -0.3365,  1.3622,  0.0169,  0.4573, -0.8108],\n",
       "          [ 3.0053,  0.9964, -0.4372, -3.4655,  1.2508, -3.1824]],\n",
       "\n",
       "         [[ 0.1386,  0.5110, -0.2576, -1.3529, -0.4987, -0.1532],\n",
       "          [ 2.2466,  0.6937,  0.4278, -4.2779,  0.7644, -0.9539],\n",
       "          [-1.3408,  1.2973, -0.3638,  0.6419, -2.5049,  1.4182],\n",
       "          [ 0.0533,  1.6734, -0.5291, -2.2082,  0.3962,  0.2698]]]])"
      ]
     },
     "execution_count": 61,
     "metadata": {},
     "output_type": "execute_result"
    }
   ],
   "source": [
    "z.view(n, b, h, r).permute(1,2,0,3)"
   ]
  },
  {
   "cell_type": "code",
   "execution_count": null,
   "metadata": {},
   "outputs": [],
   "source": [
    "torch.matmul(x3, y.permute(0,2,1)).view()"
   ]
  },
  {
   "cell_type": "code",
   "execution_count": 14,
   "metadata": {},
   "outputs": [
    {
     "data": {
      "text/plain": [
       "torch.Size([2, 3, 4, 6])"
      ]
     },
     "execution_count": 14,
     "metadata": {},
     "output_type": "execute_result"
    }
   ],
   "source": [
    "torch.matmul(x, y[0].permute(1,0)).shape"
   ]
  },
  {
   "cell_type": "code",
   "execution_count": 8,
   "metadata": {},
   "outputs": [
    {
     "data": {
      "text/plain": [
       "torch.Size([2, 3, 4, 6])"
      ]
     },
     "execution_count": 8,
     "metadata": {},
     "output_type": "execute_result"
    }
   ],
   "source": [
    "torch.matmul(x.unsqueeze(3), y.permute(0,2,1)).squeeze(-2).shape"
   ]
  },
  {
   "cell_type": "code",
   "execution_count": 51,
   "metadata": {},
   "outputs": [
    {
     "data": {
      "text/plain": [
       "tensor([[[[-1.9550e+00,  3.4765e+00,  1.4760e+00, -1.6681e-01, -1.7891e+00,\n",
       "           -1.8253e+00],\n",
       "          [ 2.0979e+00, -5.8569e-01,  1.9579e+00,  1.8438e+00, -1.5411e+00,\n",
       "            5.2032e-01],\n",
       "          [ 8.9296e-01,  7.3691e-01,  9.1067e-01, -8.9252e-01,  9.0295e-01,\n",
       "            4.5908e-01],\n",
       "          [-8.4542e-01, -1.6882e+00,  3.6080e+00,  5.7835e-01,  2.2950e+00,\n",
       "           -2.9823e+00]],\n",
       "\n",
       "         [[ 2.6324e-01,  3.1066e+00,  2.2120e+00, -2.1137e-01, -4.6306e-01,\n",
       "           -3.3934e+00],\n",
       "          [-4.4694e+00,  6.0844e-01, -3.0232e+00, -1.2968e+00, -2.0171e+00,\n",
       "            4.5604e+00],\n",
       "          [ 1.5183e+00,  5.8577e-01, -2.3140e+00,  2.8674e+00, -5.7707e+00,\n",
       "            3.3515e-01],\n",
       "          [-2.6296e+00, -2.2161e+00,  2.5077e+00, -2.1133e-02,  2.5321e+00,\n",
       "            1.4492e+00]],\n",
       "\n",
       "         [[-4.4617e+00,  2.3848e+00, -3.7521e+00,  2.0180e+00, -1.8481e+00,\n",
       "           -1.7289e+00],\n",
       "          [ 4.6432e+00, -9.3029e+00, -3.6852e+00,  2.2391e+00, -2.8566e+00,\n",
       "           -3.8939e+00],\n",
       "          [-2.1450e-04,  9.2744e-01, -3.6621e-01, -4.3189e-01, -1.2595e+00,\n",
       "            1.3737e-01],\n",
       "          [ 2.0600e+00, -1.5377e-01, -4.8872e-02, -5.0077e-01, -7.6341e-01,\n",
       "           -1.9017e+00]]],\n",
       "\n",
       "\n",
       "        [[[-1.6638e+00,  6.8395e-01, -1.6783e+00,  1.1993e+00, -2.3811e-01,\n",
       "           -3.3905e-01],\n",
       "          [ 1.1537e+00,  6.7896e-01, -3.3556e+00,  5.6812e-01, -7.3215e+00,\n",
       "            1.2089e+00],\n",
       "          [-1.8279e+00,  4.5453e-01,  4.0223e+00, -1.3183e+00,  3.5271e+00,\n",
       "           -2.0270e+00],\n",
       "          [-2.9899e+00, -2.2647e+00, -2.3011e+00, -4.1286e-03, -1.1449e+00,\n",
       "            3.2536e+00]],\n",
       "\n",
       "         [[ 4.2151e+00, -1.0326e+00,  2.3870e+00, -1.1326e+00,  6.7628e-02,\n",
       "            2.2639e+00],\n",
       "          [ 3.0146e+00,  4.4043e-01, -1.5871e+00,  1.1244e+00, -1.5158e-01,\n",
       "            7.3414e-01],\n",
       "          [ 1.0834e-01, -1.1432e+00, -1.7683e+00,  2.0142e+00, -2.1113e+00,\n",
       "           -1.6165e-01],\n",
       "          [ 5.9321e-01,  8.7402e-01,  1.8643e+00,  9.0450e-01,  5.3260e-01,\n",
       "           -1.4959e+00]],\n",
       "\n",
       "         [[ 8.2355e-01, -2.2719e+00, -1.8959e+00, -4.0626e-01, -2.5649e-01,\n",
       "            1.1798e+00],\n",
       "          [ 1.0187e+00,  5.0791e-01,  2.1172e-01,  1.2471e+00, -3.0223e+00,\n",
       "            1.8806e+00],\n",
       "          [ 3.0921e+00,  1.4121e+00,  1.4439e+00, -9.7469e-01,  1.0157e+00,\n",
       "            1.4587e+00],\n",
       "          [ 2.3577e+00,  6.6364e-01,  7.3088e-01,  2.1986e-01, -8.8210e-01,\n",
       "           -1.9006e+00]]]])"
      ]
     },
     "execution_count": 51,
     "metadata": {},
     "output_type": "execute_result"
    }
   ],
   "source": [
    "torch.matmul(x.unsqueeze(3), y.permute(0,2,1)).squeeze(-2)"
   ]
  },
  {
   "cell_type": "code",
   "execution_count": 10,
   "metadata": {},
   "outputs": [
    {
     "data": {
      "text/plain": [
       "torch.Size([2, 3, 4, 6])"
      ]
     },
     "execution_count": 10,
     "metadata": {},
     "output_type": "execute_result"
    }
   ],
   "source": [
    "torch.einsum('b h n d, n r d -> b h n r', x, y).shape"
   ]
  },
  {
   "cell_type": "code",
   "execution_count": 54,
   "metadata": {},
   "outputs": [
    {
     "data": {
      "text/plain": [
       "tensor([[[[ 3.6069, -0.1010,  4.5907,  1.4409, -0.3374, -0.4687],\n",
       "          [ 0.7922, -0.5243,  0.4649, -4.5525, -0.3684, -0.0769],\n",
       "          [-5.0455, -3.7415,  0.8662, -0.7653, -0.8775,  2.6790],\n",
       "          [-0.3818, -0.5261,  0.9918,  0.1970, -1.3475,  0.5043]],\n",
       "\n",
       "         [[ 5.8555,  1.6040,  1.4877,  1.4559, -3.0550,  1.3703],\n",
       "          [ 0.5775,  1.3960, -0.1979, -0.6887,  0.4227,  1.3436],\n",
       "          [-2.5166, -2.9616,  2.5767, -1.8824,  1.7688, -1.6250],\n",
       "          [ 2.5197, -5.2587,  0.8104,  2.0734, -2.4606, -3.8890]],\n",
       "\n",
       "         [[-3.3692, -0.8103, -2.8108,  0.4985, -0.7990, -0.4578],\n",
       "          [-0.0634,  1.5177, -1.1966,  5.0308,  0.4006,  3.1809],\n",
       "          [-1.0388,  0.0606,  0.9913,  0.4082, -1.4214,  0.5557],\n",
       "          [ 0.0834, -0.0322, -0.3532, -1.0801,  2.2203,  0.4495]]],\n",
       "\n",
       "\n",
       "        [[[ 1.2568,  1.2199,  2.2575, -4.1517, -0.0655, -1.0283],\n",
       "          [ 2.6378,  1.2028,  0.0591,  1.5880, -0.3620, -2.1721],\n",
       "          [ 1.7675,  3.6259,  0.0406,  2.7281, -1.4146,  0.0640],\n",
       "          [ 1.3411, -1.7246, -1.7159, -1.2752,  0.5907, -1.8498]],\n",
       "\n",
       "         [[-2.5056, -0.7127, -1.1496, -3.0544, -0.5452, -2.3631],\n",
       "          [ 2.1168,  3.8618,  0.0479,  2.1633,  0.4346, -1.4488],\n",
       "          [-0.4612, -0.3365,  1.3622,  0.0169,  0.4573, -0.8108],\n",
       "          [ 3.0053,  0.9964, -0.4372, -3.4655,  1.2508, -3.1824]],\n",
       "\n",
       "         [[ 0.1386,  0.5110, -0.2576, -1.3529, -0.4987, -0.1532],\n",
       "          [ 2.2466,  0.6937,  0.4278, -4.2779,  0.7644, -0.9539],\n",
       "          [-1.3408,  1.2973, -0.3638,  0.6419, -2.5049,  1.4182],\n",
       "          [ 0.0533,  1.6734, -0.5291, -2.2082,  0.3962,  0.2698]]]])"
      ]
     },
     "execution_count": 54,
     "metadata": {},
     "output_type": "execute_result"
    }
   ],
   "source": [
    "torch.einsum('b h n d, n r d -> b h n r', x, y)"
   ]
  },
  {
   "cell_type": "code",
   "execution_count": null,
   "metadata": {},
   "outputs": [],
   "source": [
    "from nemo.collections.asr.parts.submodules.causal_convs import CausalConv2D"
   ]
  },
  {
   "cell_type": "code",
   "execution_count": null,
   "metadata": {},
   "outputs": [],
   "source": [
    "from nemo.collections.asr.parts.submodules.subsampling import *"
   ]
  },
  {
   "cell_type": "code",
   "execution_count": null,
   "metadata": {},
   "outputs": [],
   "source": [
    "x = torch.ones([1, 320, 192])"
   ]
  },
  {
   "cell_type": "code",
   "execution_count": null,
   "metadata": {},
   "outputs": [],
   "source": [
    "StackingSubsampling?"
   ]
  },
  {
   "cell_type": "code",
   "execution_count": null,
   "metadata": {},
   "outputs": [],
   "source": [
    "sampler = StackingSubsampling(2, 192, 128)"
   ]
  },
  {
   "cell_type": "code",
   "execution_count": null,
   "metadata": {},
   "outputs": [],
   "source": [
    "a, b = sampler(x, torch.ones_like(x).sum(-1))\n",
    "ic(a, b, a.shape, b.shape)"
   ]
  },
  {
   "cell_type": "code",
   "execution_count": null,
   "metadata": {},
   "outputs": [],
   "source": [
    "ConvSubsampling?"
   ]
  },
  {
   "cell_type": "code",
   "execution_count": null,
   "metadata": {},
   "outputs": [],
   "source": [
    "sampler = ConvSubsampling('vggnet', 2, 192, 256, 9)"
   ]
  },
  {
   "cell_type": "code",
   "execution_count": null,
   "metadata": {},
   "outputs": [],
   "source": [
    "a, b = sampler(x, torch.ones_like(x).sum(-1))\n",
    "ic(a, b, a.shape, b.shape)"
   ]
  },
  {
   "cell_type": "code",
   "execution_count": null,
   "metadata": {},
   "outputs": [],
   "source": [
    "TimeReductionModule?"
   ]
  },
  {
   "cell_type": "code",
   "execution_count": null,
   "metadata": {},
   "outputs": [],
   "source": [
    "sampler = TimeReductionModule(192, 256)\n",
    "a = sampler(x)\n",
    "ic(a)\n",
    "ic(a[0].shape)"
   ]
  },
  {
   "cell_type": "code",
   "execution_count": null,
   "metadata": {},
   "outputs": [],
   "source": [
    "stop"
   ]
  },
  {
   "cell_type": "code",
   "execution_count": null,
   "metadata": {},
   "outputs": [],
   "source": [
    "d = pd.read_csv('../input/asl-fingerspelling/train2.csv')\n",
    "d = d[d.fold==0]\n",
    "d.head(20)"
   ]
  },
  {
   "cell_type": "code",
   "execution_count": null,
   "metadata": {},
   "outputs": [],
   "source": [
    "inf = float(\"inf\")\n",
    "logits = tf.constant([[[   0., -inf, -inf],\n",
    "                       [ -2.3, -inf, -0.1]],\n",
    "                      [[ -inf, -0.5, -inf],\n",
    "                       [ -inf, -inf, -0.1]],\n",
    "                      [[ -inf, -inf, -inf],\n",
    "                       [ -0.1, -inf, -2.3]]])\n",
    "seq_lens = tf.constant([2, 3])\n",
    "outputs = tf.nn.ctc_greedy_decoder(\n",
    "    logits,\n",
    "    seq_lens,\n",
    "    blank_index=1)"
   ]
  },
  {
   "cell_type": "code",
   "execution_count": null,
   "metadata": {},
   "outputs": [],
   "source": [
    "outputs"
   ]
  },
  {
   "cell_type": "code",
   "execution_count": null,
   "metadata": {},
   "outputs": [],
   "source": [
    "logits.shape"
   ]
  },
  {
   "cell_type": "code",
   "execution_count": null,
   "metadata": {},
   "outputs": [],
   "source": [
    "tf.keras.backend.ctc_decode(logits, [2, 2, 2], greedy=True, beam_width=100, top_paths=1)"
   ]
  },
  {
   "cell_type": "code",
   "execution_count": null,
   "metadata": {},
   "outputs": [],
   "source": [
    "x = tf.ones((6, 10, 3))\n",
    "x"
   ]
  },
  {
   "cell_type": "code",
   "execution_count": null,
   "metadata": {},
   "outputs": [],
   "source": [
    "drop = tf.keras.layers.Dropout(0.2, noise_shape=(None, 1, 1))"
   ]
  },
  {
   "cell_type": "code",
   "execution_count": null,
   "metadata": {},
   "outputs": [],
   "source": [
    "y = drop(x, training=True)\n",
    "y"
   ]
  },
  {
   "cell_type": "code",
   "execution_count": null,
   "metadata": {},
   "outputs": [],
   "source": [
    "tf.reduce_mean(drop(x, training=True))"
   ]
  },
  {
   "cell_type": "code",
   "execution_count": null,
   "metadata": {},
   "outputs": [],
   "source": [
    "drop(x, training=True)"
   ]
  },
  {
   "cell_type": "code",
   "execution_count": null,
   "metadata": {},
   "outputs": [],
   "source": [
    "y[2]"
   ]
  },
  {
   "cell_type": "code",
   "execution_count": null,
   "metadata": {},
   "outputs": [],
   "source": [
    "def noise_drop(x, drop_rate):\n",
    "  mask = torch.ones_like(x[:,:1,:1])\n",
    "  mask = F.dropout(mask, drop_rate)\n",
    "  return x * mask"
   ]
  },
  {
   "cell_type": "code",
   "execution_count": null,
   "metadata": {},
   "outputs": [],
   "source": [
    "class NoiseDropout(nn.Module):\n",
    "    def __init__(self, p=0.5):\n",
    "        super().__init__()\n",
    "        self.p = p\n",
    "        self.dropout = nn.Dropout(p)\n",
    "\n",
    "    def forward(self, x):\n",
    "        if not self.training or self.p == 0.:\n",
    "            return x\n",
    "        mask = torch.ones_like(x[:,:1,:1])\n",
    "        mask = self.dropout(mask)\n",
    "        return x * mask"
   ]
  },
  {
   "cell_type": "code",
   "execution_count": null,
   "metadata": {},
   "outputs": [],
   "source": [
    "x2 = torch.ones(6, 10, 3)\n",
    "x2 "
   ]
  },
  {
   "cell_type": "code",
   "execution_count": null,
   "metadata": {},
   "outputs": [],
   "source": [
    "torch.ones_like(x2[:,:1,:1]).shape"
   ]
  },
  {
   "cell_type": "code",
   "execution_count": null,
   "metadata": {},
   "outputs": [],
   "source": [
    "NoiseDropout(0.2)(x2).mean()"
   ]
  },
  {
   "cell_type": "code",
   "execution_count": null,
   "metadata": {},
   "outputs": [],
   "source": [
    "NoiseDropout(0.2)(x2)"
   ]
  },
  {
   "cell_type": "code",
   "execution_count": null,
   "metadata": {},
   "outputs": [],
   "source": [
    "noise_drop(x2, 0.2).mean()"
   ]
  },
  {
   "cell_type": "code",
   "execution_count": null,
   "metadata": {},
   "outputs": [],
   "source": [
    "x = tf.random.normal((1, 10, 3))"
   ]
  },
  {
   "cell_type": "code",
   "execution_count": null,
   "metadata": {},
   "outputs": [],
   "source": [
    "x"
   ]
  },
  {
   "cell_type": "code",
   "execution_count": null,
   "metadata": {},
   "outputs": [],
   "source": [
    "l = tf.split(x, x.shape[1], 1)\n",
    "l = [\n",
    "tf.random.categorical(\n",
    "    tf.squeeze(a, 1), 1\n",
    ")\n",
    "for a in l\n",
    "]\n",
    "tf.concat(l, axis=-1)"
   ]
  },
  {
   "cell_type": "code",
   "execution_count": null,
   "metadata": {},
   "outputs": [],
   "source": [
    "size = (0.2, 0.4)\n",
    "mask_value = 0.\n",
    "l = tf.shape(x)[1]\n",
    "mask_size = tf.random.uniform((), *size)\n",
    "mask_size = tf.cast(tf.cast(l, tf.float32) * mask_size, tf.int32)\n",
    "mask_offset = tf.random.uniform((), 0, tf.clip_by_value(l-mask_size,1,l), dtype=tf.int32)\n",
    "tf.tensor_scatter_nd_update(x, tf.range(mask_offset, mask_offset+mask_size)[None,...,None],tf.fill([tf.shape(x)[0], mask_size, tf.shape(x)[-1]],mask_value))"
   ]
  },
  {
   "cell_type": "code",
   "execution_count": null,
   "metadata": {},
   "outputs": [],
   "source": [
    "mask_offset"
   ]
  },
  {
   "cell_type": "code",
   "execution_count": null,
   "metadata": {},
   "outputs": [],
   "source": [
    "mask_size"
   ]
  },
  {
   "cell_type": "code",
   "execution_count": null,
   "metadata": {},
   "outputs": [],
   "source": [
    "tf.range(1,4)"
   ]
  },
  {
   "cell_type": "code",
   "execution_count": null,
   "metadata": {},
   "outputs": [],
   "source": [
    "tf.range(mask_offset, mask_offset+mask_size)"
   ]
  },
  {
   "cell_type": "code",
   "execution_count": null,
   "metadata": {},
   "outputs": [],
   "source": [
    "tf.range(mask_offset, mask_offset+mask_size)[None,...,None]"
   ]
  },
  {
   "cell_type": "code",
   "execution_count": null,
   "metadata": {},
   "outputs": [],
   "source": [
    "tf.fill([tf.shape(x)[0], mask_size, tf.shape(x)[-1]],mask_value)"
   ]
  },
  {
   "cell_type": "code",
   "execution_count": null,
   "metadata": {},
   "outputs": [],
   "source": [
    "tf.tensor_scatter_nd_update(x[0], tf.range(mask_offset, mask_offset+mask_size)[...,None],tf.fill([mask_size, tf.shape(x)[-1]],mask_value))"
   ]
  },
  {
   "cell_type": "code",
   "execution_count": null,
   "metadata": {},
   "outputs": [],
   "source": [
    "import melt as mt\n",
    "ratio = tf.random.uniform((1,), 0, 0.15)\n",
    "mask = tf.random.uniform((mt.get_shape(x, 0), mt.get_shape(x, 1), mt.get_shape(x, 2)))  > ratio\n",
    "mask = tf.cast(mask, dtype=x.dtype)\n",
    "mask\n",
    "# rmask = FLAGS.unk_id * (1 - mask)\n",
    "# x = (x * mask + rmask) * x_mask"
   ]
  },
  {
   "cell_type": "code",
   "execution_count": null,
   "metadata": {},
   "outputs": [],
   "source": [
    "import melt as mt\n",
    "ratio = tf.random.uniform((1,), 0, 0.15)\n",
    "mask = tf.random.uniform((mt.get_shape(x, 0), mt.get_shape(x, 1), 1))  > ratio\n",
    "mask = tf.cast(mask, dtype=x.dtype)\n",
    "mask\n",
    "# rmask = FLAGS.unk_id * (1 - mask)\n",
    "# x = (x * mask + rmask) * x_mask"
   ]
  },
  {
   "cell_type": "code",
   "execution_count": null,
   "metadata": {},
   "outputs": [],
   "source": [
    "x *= mask\n",
    "x"
   ]
  },
  {
   "cell_type": "code",
   "execution_count": null,
   "metadata": {},
   "outputs": [],
   "source": [
    "import melt as mt\n",
    "ratio = tf.random.uniform((1,), 0, 0.15)\n",
    "ic(ratio)\n",
    "mask = tf.random.uniform((mt.get_shape(x, 0), 1, mt.get_shape(x, 2)))  > ratio\n",
    "mask = tf.cast(mask, dtype=x.dtype)\n",
    "mask"
   ]
  },
  {
   "cell_type": "code",
   "execution_count": null,
   "metadata": {},
   "outputs": [],
   "source": [
    "x = tf.ones((1, 10, 3))\n",
    "x * mask"
   ]
  },
  {
   "cell_type": "code",
   "execution_count": null,
   "metadata": {},
   "outputs": [],
   "source": [
    "x = tf.nn.dropout(tf.ones((1, 10)), 0.15)\n",
    "x "
   ]
  },
  {
   "cell_type": "code",
   "execution_count": null,
   "metadata": {},
   "outputs": [],
   "source": [
    "x == 0"
   ]
  },
  {
   "cell_type": "code",
   "execution_count": null,
   "metadata": {},
   "outputs": [],
   "source": [
    "tf.ones((1, 10))"
   ]
  },
  {
   "cell_type": "code",
   "execution_count": null,
   "metadata": {},
   "outputs": [],
   "source": [
    "tf.nn.dropout??"
   ]
  },
  {
   "cell_type": "code",
   "execution_count": null,
   "metadata": {},
   "outputs": [],
   "source": [
    "shear_x = 0.2\n",
    "shear_y = 0\n",
    "tf.identity([\n",
    "            [1.,shear_x],\n",
    "            [shear_y,1.]\n",
    "        ])"
   ]
  },
  {
   "cell_type": "code",
   "execution_count": null,
   "metadata": {},
   "outputs": [],
   "source": []
  }
 ],
 "metadata": {
  "kernelspec": {
   "display_name": "base",
   "language": "python",
   "name": "python3"
  },
  "language_info": {
   "codemirror_mode": {
    "name": "ipython",
    "version": 3
   },
   "file_extension": ".py",
   "mimetype": "text/x-python",
   "name": "python",
   "nbconvert_exporter": "python",
   "pygments_lexer": "ipython3",
   "version": "3.10.10"
  },
  "orig_nbformat": 4
 },
 "nbformat": 4,
 "nbformat_minor": 2
}
