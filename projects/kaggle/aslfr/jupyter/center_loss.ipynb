{
 "cells": [
  {
   "cell_type": "code",
   "execution_count": 1,
   "metadata": {},
   "outputs": [
    {
     "name": "stdout",
     "output_type": "stream",
     "text": [
      "INFO: Pandarallel will run on 16 workers.\n",
      "INFO: Pandarallel will use Memory file system to transfer data between the main process and workers.\n"
     ]
    },
    {
     "name": "stderr",
     "output_type": "stream",
     "text": [
      "\u001b[34m\u001b[1mwandb\u001b[0m: \u001b[32m\u001b[41mERROR\u001b[0m Unable to patch Tensorflow/Keras\n",
      "exception while trying to patch_tf_keras\n",
      "Traceback (most recent call last):\n",
      "  File \"/home/gezi/miniconda3/lib/python3.10/site-packages/wandb/integration/keras/keras.py\", line 86, in patch_tf_keras\n",
      "    from keras.engine import training\n",
      "ModuleNotFoundError: No module named 'keras.engine'\n",
      "\u001b[34m\u001b[1mwandb\u001b[0m: \u001b[32m\u001b[41mERROR\u001b[0m Unable to patch Tensorflow/Keras\n",
      "exception while trying to patch_tf_keras\n",
      "Traceback (most recent call last):\n",
      "  File \"/home/gezi/miniconda3/lib/python3.10/site-packages/wandb/integration/keras/keras.py\", line 86, in patch_tf_keras\n",
      "    from keras.engine import training\n",
      "ModuleNotFoundError: No module named 'keras.engine'\n",
      "\u001b[34m\u001b[1mwandb\u001b[0m: \u001b[32m\u001b[41mERROR\u001b[0m Unable to patch Tensorflow/Keras\n",
      "exception while trying to patch_tf_keras\n",
      "Traceback (most recent call last):\n",
      "  File \"/home/gezi/miniconda3/lib/python3.10/site-packages/wandb/integration/keras/keras.py\", line 86, in patch_tf_keras\n",
      "    from keras.engine import training\n",
      "ModuleNotFoundError: No module named 'keras.engine'\n",
      "[08/19/23 09:27:22] config.py:228 in <module>- len(LIP): 40\n",
      "[08/19/23 09:27:22] config.py:232 in <module>\n",
      "                    len(LLIP): 18\n",
      "                    len(RLIP): 18\n",
      "                    len(MID_LIP): 4\n",
      "[08/19/23 09:27:22] config.py:289 in <module>- N_COLS: 384\n",
      "[08/19/23 09:27:23] config.py:295 in <module>- N_CHARS: 59\n",
      "[08/19/23 09:27:23] config.py:300 in <module>\n",
      "                    PAD_IDX: 0\n",
      "                    SOS_IDX: 0\n",
      "                    EOS_IDX: 60\n",
      "[08/19/23 09:27:23] config.py:323 in <module>- VOCAB_SIZE: 65\n",
      "[08/19/23 09:27:23] config.py:324 in <module>- len(IDX2CHAR): 65\n"
     ]
    }
   ],
   "source": [
    "import sys\n",
    "sys.path.append('/work/pikachu/utils/')\n",
    "sys.path.append('/work/pikachu/third/')\n",
    "sys.path.append('..')\n",
    "from gezi.common import *\n",
    "import gezi\n",
    "from src import config\n",
    "from src.config import *\n",
    "from src import util\n",
    "from src.dataset import Dataset\n",
    "from src.eval import eval_seq, calc_score\n",
    "gezi.init_flags()"
   ]
  },
  {
   "cell_type": "code",
   "execution_count": 2,
   "metadata": {},
   "outputs": [],
   "source": [
    "model = 'conformer-subsample.encoder_layers-16.encoder-squeezeformer.eval'\n",
    "model_dir = f'../working/offline/29/0/{model}'"
   ]
  },
  {
   "cell_type": "code",
   "execution_count": 3,
   "metadata": {},
   "outputs": [
    {
     "name": "stdout",
     "output_type": "stream",
     "text": [
      "/bin/bash: /home/gezi/miniconda3/envs/tf/lib/libtinfo.so.6: no version information available (required by /bin/bash)\n",
      "args.txt\t       eval_step.txt  flags.txt\t\t log.txt\n",
      "ckpt\t\t       feats.npy      global.json\t outputs.npy\n",
      "command.txt\t       flags.json     history_flags.txt  script.txt\n",
      "dataset-metadata.json  flags.pkl      log.html\t\t src\n"
     ]
    }
   ],
   "source": [
    "!ls {model_dir}"
   ]
  },
  {
   "cell_type": "code",
   "execution_count": 4,
   "metadata": {},
   "outputs": [],
   "source": [
    "feats = gezi.load(f'{model_dir}/feats.npy')"
   ]
  },
  {
   "cell_type": "code",
   "execution_count": 5,
   "metadata": {},
   "outputs": [
    {
     "data": {
      "text/plain": [
       "(105120, 80, 192)"
      ]
     },
     "execution_count": 5,
     "metadata": {},
     "output_type": "execute_result"
    }
   ],
   "source": [
    "feats.shape"
   ]
  },
  {
   "cell_type": "code",
   "execution_count": 6,
   "metadata": {},
   "outputs": [],
   "source": [
    "outputs = gezi.load(f'{model_dir}/outputs.npy')"
   ]
  },
  {
   "cell_type": "code",
   "execution_count": 7,
   "metadata": {},
   "outputs": [
    {
     "data": {
      "text/plain": [
       "(105120, 80, 61)"
      ]
     },
     "execution_count": 7,
     "metadata": {},
     "output_type": "execute_result"
    }
   ],
   "source": [
    "outputs.shape"
   ]
  },
  {
   "cell_type": "code",
   "execution_count": 8,
   "metadata": {},
   "outputs": [],
   "source": [
    "preds = np.argmax(outputs, axis=-1)"
   ]
  },
  {
   "cell_type": "code",
   "execution_count": 9,
   "metadata": {},
   "outputs": [
    {
     "data": {
      "text/plain": [
       "(105120, 80)"
      ]
     },
     "execution_count": 9,
     "metadata": {},
     "output_type": "execute_result"
    }
   ],
   "source": [
    "preds.shape"
   ]
  },
  {
   "cell_type": "code",
   "execution_count": 18,
   "metadata": {},
   "outputs": [
    {
     "data": {
      "text/plain": [
       "(61, 192)"
      ]
     },
     "execution_count": 18,
     "metadata": {},
     "output_type": "execute_result"
    }
   ],
   "source": [
    "embs = np.zeros([outputs.shape[-1], feats.shape[-1]])\n",
    "embs.shape"
   ]
  },
  {
   "cell_type": "code",
   "execution_count": 19,
   "metadata": {},
   "outputs": [],
   "source": [
    "counts = [0] * outputs.shape[-1]"
   ]
  },
  {
   "cell_type": "code",
   "execution_count": 20,
   "metadata": {},
   "outputs": [
    {
     "data": {
      "application/vnd.jupyter.widget-view+json": {
       "model_id": "3bbbe024ce5b498ab8492e851ca8d65f",
       "version_major": 2,
       "version_minor": 0
      },
      "text/plain": [
       "  0%|          | 0/105120 [00:00<?, ?it/s]"
      ]
     },
     "metadata": {},
     "output_type": "display_data"
    }
   ],
   "source": [
    "for pred, feat in tqdm(zip(preds, feats), total=len(preds)):\n",
    "  for ch, f in zip(pred, feat):\n",
    "    embs[ch] += f\n",
    "    counts[ch] += 1"
   ]
  },
  {
   "cell_type": "code",
   "execution_count": 21,
   "metadata": {},
   "outputs": [
    {
     "data": {
      "text/plain": [
       "[5033656,\n",
       " 438092,\n",
       " 2,\n",
       " 1,\n",
       " 2,\n",
       " 130,\n",
       " 27,\n",
       " 2,\n",
       " 8,\n",
       " 13,\n",
       " 4,\n",
       " 7029,\n",
       " 33,\n",
       " 57021,\n",
       " 25588,\n",
       " 19020,\n",
       " 24021,\n",
       " 27781,\n",
       " 25294,\n",
       " 25767,\n",
       " 26533,\n",
       " 27476,\n",
       " 25544,\n",
       " 23734,\n",
       " 24055,\n",
       " 24232,\n",
       " 2356,\n",
       " 0,\n",
       " 278,\n",
       " 309,\n",
       " 63,\n",
       " 3,\n",
       " 1083,\n",
       " 207917,\n",
       " 39361,\n",
       " 86667,\n",
       " 78059,\n",
       " 305365,\n",
       " 43117,\n",
       " 54206,\n",
       " 102636,\n",
       " 166499,\n",
       " 9302,\n",
       " 26841,\n",
       " 111688,\n",
       " 69699,\n",
       " 150396,\n",
       " 198581,\n",
       " 56732,\n",
       " 4665,\n",
       " 172583,\n",
       " 162335,\n",
       " 211000,\n",
       " 73839,\n",
       " 28972,\n",
       " 57047,\n",
       " 7579,\n",
       " 48526,\n",
       " 4296,\n",
       " 17,\n",
       " 92518]"
      ]
     },
     "execution_count": 21,
     "metadata": {},
     "output_type": "execute_result"
    }
   ],
   "source": [
    "counts"
   ]
  },
  {
   "cell_type": "code",
   "execution_count": 24,
   "metadata": {},
   "outputs": [],
   "source": [
    "for i, count in enumerate(counts):\n",
    "  if count:\n",
    "    embs[i] /= count"
   ]
  },
  {
   "cell_type": "code",
   "execution_count": 25,
   "metadata": {},
   "outputs": [
    {
     "data": {
      "text/plain": [
       "array([[ 0.44820025,  0.69065138,  0.45368835, ...,  0.37246914,\n",
       "        -0.45457715, -0.31162671],\n",
       "       [ 0.49769263,  0.48278925,  0.50344379, ..., -0.16303883,\n",
       "        -0.68316444, -0.08673915],\n",
       "       [ 0.51613986,  0.14508873,  0.5298582 , ..., -0.07753445,\n",
       "        -0.64062247,  0.04112925],\n",
       "       ...,\n",
       "       [ 0.18812206, -0.16804746,  0.54779373, ...,  0.02590111,\n",
       "        -0.47409979, -0.29644366],\n",
       "       [ 0.25106105,  0.38377634,  0.57509984, ...,  0.51392663,\n",
       "        -0.78375396, -0.33757227],\n",
       "       [ 0.08941885,  0.3215719 , -0.02799755, ...,  0.04354505,\n",
       "        -0.86001586, -0.40195613]])"
      ]
     },
     "execution_count": 25,
     "metadata": {},
     "output_type": "execute_result"
    }
   ],
   "source": [
    "embs"
   ]
  },
  {
   "cell_type": "code",
   "execution_count": 26,
   "metadata": {},
   "outputs": [],
   "source": [
    "gezi.save(embs, f'{FLAGS.root}/embs.npy')"
   ]
  },
  {
   "cell_type": "code",
   "execution_count": null,
   "metadata": {},
   "outputs": [],
   "source": []
  }
 ],
 "metadata": {
  "kernelspec": {
   "display_name": "base",
   "language": "python",
   "name": "python3"
  },
  "language_info": {
   "codemirror_mode": {
    "name": "ipython",
    "version": 3
   },
   "file_extension": ".py",
   "mimetype": "text/x-python",
   "name": "python",
   "nbconvert_exporter": "python",
   "pygments_lexer": "ipython3",
   "version": "3.10.10"
  },
  "orig_nbformat": 4
 },
 "nbformat": 4,
 "nbformat_minor": 2
}
